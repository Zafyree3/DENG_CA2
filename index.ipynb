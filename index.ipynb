{
 "cells": [
  {
   "cell_type": "code",
   "execution_count": 1,
   "metadata": {},
   "outputs": [],
   "source": [
    "import pandas as pd"
   ]
  },
  {
   "cell_type": "markdown",
   "metadata": {},
   "source": [
    "# Customers"
   ]
  },
  {
   "cell_type": "code",
   "execution_count": 2,
   "metadata": {},
   "outputs": [
    {
     "data": {
      "text/html": [
       "<div>\n",
       "<style scoped>\n",
       "    .dataframe tbody tr th:only-of-type {\n",
       "        vertical-align: middle;\n",
       "    }\n",
       "\n",
       "    .dataframe tbody tr th {\n",
       "        vertical-align: top;\n",
       "    }\n",
       "\n",
       "    .dataframe thead th {\n",
       "        text-align: right;\n",
       "    }\n",
       "</style>\n",
       "<table border=\"1\" class=\"dataframe\">\n",
       "  <thead>\n",
       "    <tr style=\"text-align: right;\">\n",
       "      <th></th>\n",
       "      <th>Customer ID</th>\n",
       "      <th>First Name</th>\n",
       "      <th>Last Name</th>\n",
       "      <th>Company Name</th>\n",
       "      <th>Contact Number</th>\n",
       "    </tr>\n",
       "  </thead>\n",
       "  <tbody>\n",
       "    <tr>\n",
       "      <th>0</th>\n",
       "      <td>c0001</td>\n",
       "      <td>John</td>\n",
       "      <td>Doe</td>\n",
       "      <td>ABC Company</td>\n",
       "      <td>5123456789</td>\n",
       "    </tr>\n",
       "    <tr>\n",
       "      <th>1</th>\n",
       "      <td>c0002</td>\n",
       "      <td>Jane</td>\n",
       "      <td>Smith</td>\n",
       "      <td>XYZ Corporation</td>\n",
       "      <td>7123456789</td>\n",
       "    </tr>\n",
       "    <tr>\n",
       "      <th>2</th>\n",
       "      <td>c0003</td>\n",
       "      <td>Michael</td>\n",
       "      <td>Johnson</td>\n",
       "      <td>Acme Inc.</td>\n",
       "      <td>9123456787</td>\n",
       "    </tr>\n",
       "    <tr>\n",
       "      <th>3</th>\n",
       "      <td>c0004</td>\n",
       "      <td>Emily</td>\n",
       "      <td>Williams</td>\n",
       "      <td>Beta Technologies</td>\n",
       "      <td>3123456789</td>\n",
       "    </tr>\n",
       "    <tr>\n",
       "      <th>4</th>\n",
       "      <td>c0005</td>\n",
       "      <td>David</td>\n",
       "      <td>Brown</td>\n",
       "      <td>Gamma Enterprises</td>\n",
       "      <td>4123456789</td>\n",
       "    </tr>\n",
       "  </tbody>\n",
       "</table>\n",
       "</div>"
      ],
      "text/plain": [
       "  Customer ID First Name Last Name       Company Name  Contact Number\n",
       "0       c0001       John       Doe        ABC Company      5123456789\n",
       "1       c0002       Jane     Smith    XYZ Corporation      7123456789\n",
       "2       c0003    Michael   Johnson          Acme Inc.      9123456787\n",
       "3       c0004      Emily  Williams  Beta Technologies      3123456789\n",
       "4       c0005      David     Brown  Gamma Enterprises      4123456789"
      ]
     },
     "execution_count": 2,
     "metadata": {},
     "output_type": "execute_result"
    }
   ],
   "source": [
    "customer_df = pd.read_csv('customer.csv')\n",
    "customer_df.head()"
   ]
  },
  {
   "cell_type": "code",
   "execution_count": 3,
   "metadata": {},
   "outputs": [
    {
     "name": "stdout",
     "output_type": "stream",
     "text": [
      "missing values: 0\n",
      "duplicates: 0\n",
      "lengths of contact number column: [10]\n",
      "unique values in Customer ID: 73\n",
      "unique values in First Name: 73\n",
      "unique values in Last Name: 71\n",
      "unique values in Company Name: 19\n",
      "unique values in Contact Number: 50\n",
      "duplicates in contact number: 23\n",
      "Contact Number\n",
      "5123456789    4\n",
      "4123456786    3\n",
      "2123456789    2\n",
      "7123456784    1\n",
      "5123456783    1\n",
      "1123456787    1\n",
      "9123456784    1\n",
      "7123456782    1\n",
      "9123456789    1\n",
      "2123456785    1\n",
      "4123456789    1\n",
      "1123456782    1\n",
      "8123456789    1\n",
      "9123456781    1\n",
      "7123456789    1\n",
      "6123456789    1\n",
      "3123456783    1\n",
      "Name: count, dtype: int64\n"
     ]
    }
   ],
   "source": [
    "# Check for missing values\n",
    "print(f\"missing values: {customer_df.isnull().sum().sum()}\")\n",
    "# Check for duplicates\n",
    "print(f\"duplicates: {customer_df.duplicated().sum()}\")\n",
    "# check lengths of contact number column\n",
    "print(f\"lengths of contact number column: {customer_df['Contact Number'].apply(str).apply(len).unique()}\")\n",
    "\n",
    "# check for unique values in each of the columns\n",
    "for col in customer_df.columns:\n",
    "    print(f\"unique values in {col}: {customer_df[col].nunique()}\")\n",
    "\n",
    "contact_number = customer_df['Contact Number']\n",
    "\n",
    "# check for duplicates in contact number\n",
    "print(f\"duplicates in contact number: {contact_number.duplicated().sum()}\")\n",
    "\n",
    "#display the duplicates and the number of times they appear\n",
    "print(contact_number[contact_number.duplicated()].value_counts())"
   ]
  },
  {
   "cell_type": "code",
   "execution_count": 31,
   "metadata": {},
   "outputs": [
    {
     "data": {
      "text/html": [
       "<div>\n",
       "<style scoped>\n",
       "    .dataframe tbody tr th:only-of-type {\n",
       "        vertical-align: middle;\n",
       "    }\n",
       "\n",
       "    .dataframe tbody tr th {\n",
       "        vertical-align: top;\n",
       "    }\n",
       "\n",
       "    .dataframe thead th {\n",
       "        text-align: right;\n",
       "    }\n",
       "</style>\n",
       "<table border=\"1\" class=\"dataframe\">\n",
       "  <thead>\n",
       "    <tr style=\"text-align: right;\">\n",
       "      <th></th>\n",
       "      <th>Customer ID</th>\n",
       "      <th>First Name</th>\n",
       "      <th>Last Name</th>\n",
       "      <th>Company Name</th>\n",
       "      <th>Contact Number</th>\n",
       "    </tr>\n",
       "  </thead>\n",
       "  <tbody>\n",
       "    <tr>\n",
       "      <th>0</th>\n",
       "      <td>c0001</td>\n",
       "      <td>John</td>\n",
       "      <td>Doe</td>\n",
       "      <td>ABC Company</td>\n",
       "      <td>5123456789</td>\n",
       "    </tr>\n",
       "    <tr>\n",
       "      <th>42</th>\n",
       "      <td>c0043</td>\n",
       "      <td>Julia</td>\n",
       "      <td>Sullivan</td>\n",
       "      <td>Theta Corporation</td>\n",
       "      <td>5123456789</td>\n",
       "    </tr>\n",
       "    <tr>\n",
       "      <th>58</th>\n",
       "      <td>c0059</td>\n",
       "      <td>Maverick</td>\n",
       "      <td>Bishop</td>\n",
       "      <td>Mu Corporation</td>\n",
       "      <td>5123456789</td>\n",
       "    </tr>\n",
       "    <tr>\n",
       "      <th>65</th>\n",
       "      <td>c0066</td>\n",
       "      <td>Hope</td>\n",
       "      <td>Patel</td>\n",
       "      <td>Kappa Systems</td>\n",
       "      <td>5123456789</td>\n",
       "    </tr>\n",
       "    <tr>\n",
       "      <th>72</th>\n",
       "      <td>c0073</td>\n",
       "      <td>Skyler</td>\n",
       "      <td>Gallagher</td>\n",
       "      <td>Delta Corp.</td>\n",
       "      <td>5123456789</td>\n",
       "    </tr>\n",
       "  </tbody>\n",
       "</table>\n",
       "</div>"
      ],
      "text/plain": [
       "   Customer ID First Name  Last Name       Company Name  Contact Number\n",
       "0        c0001       John        Doe        ABC Company      5123456789\n",
       "42       c0043      Julia   Sullivan  Theta Corporation      5123456789\n",
       "58       c0059   Maverick     Bishop     Mu Corporation      5123456789\n",
       "65       c0066       Hope      Patel      Kappa Systems      5123456789\n",
       "72       c0073     Skyler  Gallagher        Delta Corp.      5123456789"
      ]
     },
     "execution_count": 31,
     "metadata": {},
     "output_type": "execute_result"
    }
   ],
   "source": []
  },
  {
   "cell_type": "code",
   "execution_count": 4,
   "metadata": {},
   "outputs": [
    {
     "name": "stdout",
     "output_type": "stream",
     "text": [
      "   Customer ID First Name  Last Name        Company Name  Contact Number\n",
      "31       c0032      Layla     Brooks   Theta Corporation      1123456782\n",
      "50       c0051       Nova  Henderson         Delta Corp.      1123456782\n",
      "61       c0062      Eliza      Welch         Delta Corp.      1123456787\n",
      "68       c0069    Camilla      Reyes          Nu Company      1123456787\n",
      "51       c0052      Ellie       Gray        Epsilon Tech      2123456785\n",
      "12       c0013     Sophia      Lopez          Omega Inc.      2123456785\n",
      "69       c0070        Kai    Huffman      Mu Corporation      2123456789\n",
      "62       c0063      Bryce    Cameron        Epsilon Tech      2123456789\n",
      "7        c0008    Jessica      Moore     Zeta Industries      2123456789\n",
      "63       c0064     Finley    Collins   Gamma Enterprises      3123456783\n",
      "70       c0071  Anastasia    Stevens        Pi Solutions      3123456783\n",
      "9        c0010       Emma   Anderson   Theta Corporation      4123456786\n",
      "71       c0072       Drew    Osborne        Lambda Group      4123456786\n",
      "64       c0065     Sawyer      Flynn   Theta Corporation      4123456786\n",
      "33       c0034     Hannah   Mitchell  Sigma Technologies      4123456786\n",
      "4        c0005      David      Brown   Gamma Enterprises      4123456789\n",
      "52       c0053    Braxton     Watson   Gamma Enterprises      4123456789\n",
      "20       c0021   Benjamin       Hall   Theta Corporation      5123456783\n",
      "53       c0054    Kennedy     Bryant   Theta Corporation      5123456783\n",
      "58       c0059   Maverick     Bishop      Mu Corporation      5123456789\n",
      "65       c0066       Hope      Patel       Kappa Systems      5123456789\n",
      "0        c0001       John        Doe         ABC Company      5123456789\n",
      "72       c0073     Skyler  Gallagher         Delta Corp.      5123456789\n",
      "42       c0043      Julia   Sullivan   Theta Corporation      5123456789\n",
      "5        c0006      Sarah     Miller     Delta Solutions      6123456789\n",
      "34       c0035   Davidson      Price          Omega Inc.      6123456789\n",
      "59       c0060     Sienna   Saunders        Pi Solutions      7123456782\n",
      "66       c0067      Gemma      Hogan  Sigma Technologies      7123456782\n",
      "22       c0023      Jacob      Scott  Sigma Technologies      7123456784\n",
      "10       c0011     Olivia   Martinez       Kappa Systems      7123456784\n",
      "1        c0002       Jane      Smith     XYZ Corporation      7123456789\n",
      "38       c0039    Jameson       Cruz        Lambda Group      7123456789\n",
      "49       c0050     Austin     Barnes        Lambda Group      8123456789\n",
      "6        c0007     Daniel     Wilson       Epsilon Group      8123456789\n",
      "39       c0040      Riley       West         Delta Corp.      9123456781\n",
      "15       c0016  Alexander      Perez        Pi Solutions      9123456781\n",
      "60       c0061    Coleman       Tate        Lambda Group      9123456784\n",
      "67       c0068       Knox    Goodman          Omega Inc.      9123456784\n",
      "30       c0031     Elijah       Ward   Gamma Enterprises      9123456789\n",
      "55       c0056    Raelynn       Park  Sigma Technologies      9123456789\n"
     ]
    }
   ],
   "source": [
    "#show the rows with the duplicated contact numbers and order by contact number\n",
    "print(customer_df[customer_df['Contact Number'].duplicated(keep=False)].sort_values('Contact Number'))"
   ]
  },
  {
   "cell_type": "code",
   "execution_count": 5,
   "metadata": {},
   "outputs": [],
   "source": [
    "# get customer_id list\n",
    "customer_id = customer_df['Customer ID']"
   ]
  },
  {
   "cell_type": "markdown",
   "metadata": {},
   "source": [
    "# Employee"
   ]
  },
  {
   "cell_type": "code",
   "execution_count": 6,
   "metadata": {},
   "outputs": [
    {
     "data": {
      "text/html": [
       "<div>\n",
       "<style scoped>\n",
       "    .dataframe tbody tr th:only-of-type {\n",
       "        vertical-align: middle;\n",
       "    }\n",
       "\n",
       "    .dataframe tbody tr th {\n",
       "        vertical-align: top;\n",
       "    }\n",
       "\n",
       "    .dataframe thead th {\n",
       "        text-align: right;\n",
       "    }\n",
       "</style>\n",
       "<table border=\"1\" class=\"dataframe\">\n",
       "  <thead>\n",
       "    <tr style=\"text-align: right;\">\n",
       "      <th></th>\n",
       "      <th>Employee ID</th>\n",
       "      <th>First Name</th>\n",
       "      <th>Last Name</th>\n",
       "      <th>Contact Number</th>\n",
       "      <th>Gender</th>\n",
       "    </tr>\n",
       "  </thead>\n",
       "  <tbody>\n",
       "    <tr>\n",
       "      <th>0</th>\n",
       "      <td>e00001</td>\n",
       "      <td>Christopher</td>\n",
       "      <td>Thomas</td>\n",
       "      <td>7123456790</td>\n",
       "      <td>Male</td>\n",
       "    </tr>\n",
       "    <tr>\n",
       "      <th>1</th>\n",
       "      <td>e00002</td>\n",
       "      <td>Isabella</td>\n",
       "      <td>Collins</td>\n",
       "      <td>9123456788</td>\n",
       "      <td>Female</td>\n",
       "    </tr>\n",
       "    <tr>\n",
       "      <th>2</th>\n",
       "      <td>e00003</td>\n",
       "      <td>James</td>\n",
       "      <td>Allen</td>\n",
       "      <td>3123456788</td>\n",
       "      <td>Male</td>\n",
       "    </tr>\n",
       "    <tr>\n",
       "      <th>3</th>\n",
       "      <td>e00004</td>\n",
       "      <td>Elizabeth</td>\n",
       "      <td>Morris</td>\n",
       "      <td>4123456790</td>\n",
       "      <td>Female</td>\n",
       "    </tr>\n",
       "    <tr>\n",
       "      <th>4</th>\n",
       "      <td>e00005</td>\n",
       "      <td>David</td>\n",
       "      <td>Clark</td>\n",
       "      <td>6123456790</td>\n",
       "      <td>Male</td>\n",
       "    </tr>\n",
       "  </tbody>\n",
       "</table>\n",
       "</div>"
      ],
      "text/plain": [
       "  Employee ID   First Name Last Name  Contact Number  Gender\n",
       "0      e00001  Christopher    Thomas      7123456790    Male\n",
       "1      e00002     Isabella   Collins      9123456788  Female\n",
       "2      e00003        James     Allen      3123456788    Male\n",
       "3      e00004    Elizabeth    Morris      4123456790  Female\n",
       "4      e00005        David     Clark      6123456790    Male"
      ]
     },
     "execution_count": 6,
     "metadata": {},
     "output_type": "execute_result"
    }
   ],
   "source": [
    "employee_df = pd.read_csv('employee.csv')\n",
    "employee_df.head()"
   ]
  },
  {
   "cell_type": "code",
   "execution_count": 7,
   "metadata": {},
   "outputs": [
    {
     "name": "stdout",
     "output_type": "stream",
     "text": [
      "missing values: 0\n",
      "duplicates: 0\n"
     ]
    }
   ],
   "source": [
    "# check for missing values\n",
    "print(f\"missing values: {employee_df.isnull().sum().sum()}\")\n",
    "# check for duplicates\n",
    "print(f\"duplicates: {employee_df.duplicated().sum()}\")"
   ]
  },
  {
   "cell_type": "code",
   "execution_count": 8,
   "metadata": {},
   "outputs": [
    {
     "name": "stdout",
     "output_type": "stream",
     "text": [
      "duplicates in contact number: 2\n",
      "   Employee ID First Name Last Name  Contact Number  Gender\n",
      "11      e00012        Ava    Parker      2123456790  Female\n",
      "21      e00022      Chloe     Baker      4123456790  Female\n"
     ]
    }
   ],
   "source": [
    "#check for duplicated contact number\n",
    "contact_number = employee_df['Contact Number']\n",
    "print(f\"duplicates in contact number: {contact_number.duplicated().sum()}\")\n",
    "\n",
    "# show rows with duplicated contact number\n",
    "print(employee_df[contact_number.duplicated()])\n",
    "# wait this dont makes sense, the contact number is unique, \"2123456790\" and \"4123456790\" are different numbers"
   ]
  },
  {
   "cell_type": "code",
   "execution_count": 9,
   "metadata": {},
   "outputs": [],
   "source": [
    "# create a list of employee_id\n",
    "employee_id = employee_df['Employee ID']"
   ]
  },
  {
   "cell_type": "markdown",
   "metadata": {},
   "source": [
    "# Dataset"
   ]
  },
  {
   "cell_type": "code",
   "execution_count": 10,
   "metadata": {},
   "outputs": [
    {
     "data": {
      "text/html": [
       "<div>\n",
       "<style scoped>\n",
       "    .dataframe tbody tr th:only-of-type {\n",
       "        vertical-align: middle;\n",
       "    }\n",
       "\n",
       "    .dataframe tbody tr th {\n",
       "        vertical-align: top;\n",
       "    }\n",
       "\n",
       "    .dataframe thead th {\n",
       "        text-align: right;\n",
       "    }\n",
       "</style>\n",
       "<table border=\"1\" class=\"dataframe\">\n",
       "  <thead>\n",
       "    <tr style=\"text-align: right;\">\n",
       "      <th></th>\n",
       "      <th>Dataset ID</th>\n",
       "      <th>Dataset Name</th>\n",
       "    </tr>\n",
       "  </thead>\n",
       "  <tbody>\n",
       "    <tr>\n",
       "      <th>0</th>\n",
       "      <td>ds001</td>\n",
       "      <td>Retail_Sales_Data</td>\n",
       "    </tr>\n",
       "    <tr>\n",
       "      <th>1</th>\n",
       "      <td>ds002</td>\n",
       "      <td>Customer_Churn_Analysis</td>\n",
       "    </tr>\n",
       "    <tr>\n",
       "      <th>2</th>\n",
       "      <td>ds003</td>\n",
       "      <td>Stock_Market_Prices</td>\n",
       "    </tr>\n",
       "    <tr>\n",
       "      <th>3</th>\n",
       "      <td>ds004</td>\n",
       "      <td>Employee_Satisfaction_Survey</td>\n",
       "    </tr>\n",
       "    <tr>\n",
       "      <th>4</th>\n",
       "      <td>ds005</td>\n",
       "      <td>Marketing_Campaign_Performance</td>\n",
       "    </tr>\n",
       "  </tbody>\n",
       "</table>\n",
       "</div>"
      ],
      "text/plain": [
       "  Dataset ID                     Dataset Name\n",
       "0      ds001                Retail_Sales_Data\n",
       "1      ds002          Customer_Churn_Analysis\n",
       "2      ds003              Stock_Market_Prices\n",
       "3      ds004     Employee_Satisfaction_Survey\n",
       "4      ds005   Marketing_Campaign_Performance"
      ]
     },
     "execution_count": 10,
     "metadata": {},
     "output_type": "execute_result"
    }
   ],
   "source": [
    "dataset_df = pd.read_excel('modelling.xlsx', sheet_name='dataset')\n",
    "dataset_df.head()"
   ]
  },
  {
   "cell_type": "code",
   "execution_count": 11,
   "metadata": {},
   "outputs": [
    {
     "name": "stdout",
     "output_type": "stream",
     "text": [
      "missing values: 0\n",
      "duplicates: 0\n"
     ]
    }
   ],
   "source": [
    "#check for missing values\n",
    "print(f\"missing values: {dataset_df.isnull().sum().sum()}\")\n",
    "#check for duplicates\n",
    "print(f\"duplicates: {dataset_df.duplicated().sum()}\")"
   ]
  },
  {
   "cell_type": "code",
   "execution_count": 12,
   "metadata": {},
   "outputs": [],
   "source": [
    "# rename \" Dataset Name\" to \"Dataset Name\"\n",
    "dataset_df.rename(columns={' Dataset Name': 'Dataset Name'}, inplace=True)"
   ]
  },
  {
   "cell_type": "code",
   "execution_count": 13,
   "metadata": {},
   "outputs": [
    {
     "name": "stdout",
     "output_type": "stream",
     "text": [
      "Index(['Dataset ID', 'Dataset Name'], dtype='object')\n"
     ]
    }
   ],
   "source": [
    "# get the headers of the dataframe\n",
    "print(dataset_df.columns)"
   ]
  },
  {
   "cell_type": "code",
   "execution_count": 14,
   "metadata": {},
   "outputs": [
    {
     "name": "stdout",
     "output_type": "stream",
     "text": [
      "duplicates in dataset name: 0\n"
     ]
    }
   ],
   "source": [
    "# check for duplicates in Dataset Name\n",
    "dataset_name = dataset_df['Dataset Name']\n",
    "print(f\"duplicates in dataset name: {dataset_name.duplicated().sum()}\")"
   ]
  },
  {
   "cell_type": "code",
   "execution_count": 15,
   "metadata": {},
   "outputs": [],
   "source": [
    "# get list of dataset id\n",
    "dataset_id = dataset_df['Dataset ID']"
   ]
  },
  {
   "cell_type": "markdown",
   "metadata": {},
   "source": [
    "# Model Type"
   ]
  },
  {
   "cell_type": "code",
   "execution_count": null,
   "metadata": {},
   "outputs": [
    {
     "data": {
      "text/html": [
       "<div>\n",
       "<style scoped>\n",
       "    .dataframe tbody tr th:only-of-type {\n",
       "        vertical-align: middle;\n",
       "    }\n",
       "\n",
       "    .dataframe tbody tr th {\n",
       "        vertical-align: top;\n",
       "    }\n",
       "\n",
       "    .dataframe thead th {\n",
       "        text-align: right;\n",
       "    }\n",
       "</style>\n",
       "<table border=\"1\" class=\"dataframe\">\n",
       "  <thead>\n",
       "    <tr style=\"text-align: right;\">\n",
       "      <th></th>\n",
       "      <th>Model Code</th>\n",
       "      <th>Model Type</th>\n",
       "    </tr>\n",
       "  </thead>\n",
       "  <tbody>\n",
       "    <tr>\n",
       "      <th>0</th>\n",
       "      <td>DT</td>\n",
       "      <td>Decision Tree</td>\n",
       "    </tr>\n",
       "    <tr>\n",
       "      <th>1</th>\n",
       "      <td>RF</td>\n",
       "      <td>Random Forest</td>\n",
       "    </tr>\n",
       "    <tr>\n",
       "      <th>2</th>\n",
       "      <td>LR</td>\n",
       "      <td>Linear Regression</td>\n",
       "    </tr>\n",
       "    <tr>\n",
       "      <th>3</th>\n",
       "      <td>NN</td>\n",
       "      <td>Neural Network</td>\n",
       "    </tr>\n",
       "    <tr>\n",
       "      <th>4</th>\n",
       "      <td>SVM</td>\n",
       "      <td>Support Vector Machine</td>\n",
       "    </tr>\n",
       "  </tbody>\n",
       "</table>\n",
       "</div>"
      ],
      "text/plain": [
       "  Model Code              Model Type\n",
       "0         DT           Decision Tree\n",
       "1         RF           Random Forest\n",
       "2         LR       Linear Regression\n",
       "3         NN          Neural Network\n",
       "4        SVM  Support Vector Machine"
      ]
     },
     "metadata": {},
     "output_type": "display_data"
    }
   ],
   "source": [
    "model_type_df = pd.read_excel('modelling.xlsx', sheet_name='modeltype')\n",
    "model_type_df.head()"
   ]
  },
  {
   "cell_type": "code",
   "execution_count": null,
   "metadata": {},
   "outputs": [
    {
     "name": "stdout",
     "output_type": "stream",
     "text": [
      "missing values: 0\n",
      "duplicates: 0\n"
     ]
    }
   ],
   "source": [
    "# check for missing values\n",
    "print(f\"missing values: {model_type_df.isnull().sum().sum()}\")\n",
    "# check for duplicates\n",
    "print(f\"duplicates: {model_type_df.duplicated().sum()}\")"
   ]
  },
  {
   "cell_type": "code",
   "execution_count": 28,
   "metadata": {},
   "outputs": [],
   "source": [
    "# get the model code\n",
    "model_code = model_type_df['Model Code']"
   ]
  },
  {
   "cell_type": "markdown",
   "metadata": {},
   "source": [
    "# Model"
   ]
  },
  {
   "cell_type": "code",
   "execution_count": 16,
   "metadata": {},
   "outputs": [
    {
     "data": {
      "text/html": [
       "<div>\n",
       "<style scoped>\n",
       "    .dataframe tbody tr th:only-of-type {\n",
       "        vertical-align: middle;\n",
       "    }\n",
       "\n",
       "    .dataframe tbody tr th {\n",
       "        vertical-align: top;\n",
       "    }\n",
       "\n",
       "    .dataframe thead th {\n",
       "        text-align: right;\n",
       "    }\n",
       "</style>\n",
       "<table border=\"1\" class=\"dataframe\">\n",
       "  <thead>\n",
       "    <tr style=\"text-align: right;\">\n",
       "      <th></th>\n",
       "      <th>Model ID</th>\n",
       "      <th>Model Code</th>\n",
       "      <th>Training Date</th>\n",
       "      <th>Accuracy</th>\n",
       "      <th>Dataset ID</th>\n",
       "    </tr>\n",
       "  </thead>\n",
       "  <tbody>\n",
       "    <tr>\n",
       "      <th>0</th>\n",
       "      <td>m0001</td>\n",
       "      <td>RF</td>\n",
       "      <td>2020/06/25</td>\n",
       "      <td>93.5</td>\n",
       "      <td>ds001</td>\n",
       "    </tr>\n",
       "    <tr>\n",
       "      <th>1</th>\n",
       "      <td>m0002</td>\n",
       "      <td>NN</td>\n",
       "      <td>2020/03/12</td>\n",
       "      <td>88.2</td>\n",
       "      <td>ds002</td>\n",
       "    </tr>\n",
       "    <tr>\n",
       "      <th>2</th>\n",
       "      <td>m0003</td>\n",
       "      <td>SVM</td>\n",
       "      <td>2020/09/18</td>\n",
       "      <td>85.7</td>\n",
       "      <td>ds003</td>\n",
       "    </tr>\n",
       "    <tr>\n",
       "      <th>3</th>\n",
       "      <td>m0004</td>\n",
       "      <td>kNN</td>\n",
       "      <td>2020/07/19</td>\n",
       "      <td>91.4</td>\n",
       "      <td>ds004</td>\n",
       "    </tr>\n",
       "    <tr>\n",
       "      <th>4</th>\n",
       "      <td>m0005</td>\n",
       "      <td>DT</td>\n",
       "      <td>2020/02/05</td>\n",
       "      <td>86.9</td>\n",
       "      <td>ds005</td>\n",
       "    </tr>\n",
       "  </tbody>\n",
       "</table>\n",
       "</div>"
      ],
      "text/plain": [
       "  Model ID Model Code Training Date  Accuracy Dataset ID\n",
       "0    m0001         RF    2020/06/25      93.5      ds001\n",
       "1    m0002         NN    2020/03/12      88.2      ds002\n",
       "2    m0003        SVM    2020/09/18      85.7      ds003\n",
       "3    m0004        kNN    2020/07/19      91.4      ds004\n",
       "4    m0005         DT    2020/02/05      86.9      ds005"
      ]
     },
     "execution_count": 16,
     "metadata": {},
     "output_type": "execute_result"
    }
   ],
   "source": [
    "model_df = pd.read_excel('modelling.xlsx', sheet_name='model')\n",
    "model_df.head()"
   ]
  },
  {
   "cell_type": "code",
   "execution_count": 17,
   "metadata": {},
   "outputs": [
    {
     "name": "stdout",
     "output_type": "stream",
     "text": [
      "missing values: 0\n",
      "duplicates: 0\n"
     ]
    }
   ],
   "source": [
    "#check for missing values\n",
    "print(f\"missing values: {model_df.isnull().sum().sum()}\")\n",
    "#check for duplicates\n",
    "print(f\"duplicates: {model_df.duplicated().sum()}\")"
   ]
  },
  {
   "cell_type": "code",
   "execution_count": 18,
   "metadata": {},
   "outputs": [
    {
     "name": "stdout",
     "output_type": "stream",
     "text": [
      "Dataset ID in dataset id: Empty DataFrame\n",
      "Columns: [Model ID, Model Code, Training Date, Accuracy, Dataset ID]\n",
      "Index: []\n"
     ]
    }
   ],
   "source": [
    "# check if Dataset ID is in dataset id\n",
    "print(f\"Dataset ID in dataset id: {model_df[~model_df['Dataset ID'].isin(dataset_id)]}\")\n"
   ]
  },
  {
   "cell_type": "code",
   "execution_count": 29,
   "metadata": {},
   "outputs": [
    {
     "name": "stdout",
     "output_type": "stream",
     "text": [
      "Model Code in model code:    Model ID Model Code Training Date  Accuracy Dataset ID\n",
      "6     m0007       logR    2020/05/28      84.3      ds007\n",
      "13    m0014       logR    2020/09/24      83.4      ds014\n",
      "21    m0022       logR    2020/11/10      82.6      ds022\n",
      "27    m0028       logR    2020/09/08      85.2      ds028\n",
      "35    m0036       logR    2020/03/22      84.9      ds007\n",
      "43    m0044       logR    2020/05/21      83.6      ds015\n",
      "50    m0051       logR    2020/04/24      84.1      ds022\n",
      "58    m0059       logR    2020/01/29      83.2      ds001\n",
      "65    m0066       logR    2020/05/24      84.8      ds008\n",
      "73    m0074       logR    2020/04/09      83.8      ds016\n",
      "81    m0082       logR    2020/06/22      84.5      ds024\n"
     ]
    }
   ],
   "source": [
    "# check if model code is in model code\n",
    "print(f\"Model Code in model code: {model_df[~model_df['Model Code'].isin(model_code)]}\")"
   ]
  },
  {
   "cell_type": "markdown",
   "metadata": {},
   "source": [
    "# Model Type"
   ]
  },
  {
   "cell_type": "code",
   "execution_count": 19,
   "metadata": {},
   "outputs": [
    {
     "data": {
      "text/html": [
       "<div>\n",
       "<style scoped>\n",
       "    .dataframe tbody tr th:only-of-type {\n",
       "        vertical-align: middle;\n",
       "    }\n",
       "\n",
       "    .dataframe tbody tr th {\n",
       "        vertical-align: top;\n",
       "    }\n",
       "\n",
       "    .dataframe thead th {\n",
       "        text-align: right;\n",
       "    }\n",
       "</style>\n",
       "<table border=\"1\" class=\"dataframe\">\n",
       "  <thead>\n",
       "    <tr style=\"text-align: right;\">\n",
       "      <th></th>\n",
       "      <th>Model Code</th>\n",
       "      <th>Model Type</th>\n",
       "    </tr>\n",
       "  </thead>\n",
       "  <tbody>\n",
       "    <tr>\n",
       "      <th>0</th>\n",
       "      <td>DT</td>\n",
       "      <td>Decision Tree</td>\n",
       "    </tr>\n",
       "    <tr>\n",
       "      <th>1</th>\n",
       "      <td>RF</td>\n",
       "      <td>Random Forest</td>\n",
       "    </tr>\n",
       "    <tr>\n",
       "      <th>2</th>\n",
       "      <td>LR</td>\n",
       "      <td>Linear Regression</td>\n",
       "    </tr>\n",
       "    <tr>\n",
       "      <th>3</th>\n",
       "      <td>NN</td>\n",
       "      <td>Neural Network</td>\n",
       "    </tr>\n",
       "    <tr>\n",
       "      <th>4</th>\n",
       "      <td>SVM</td>\n",
       "      <td>Support Vector Machine</td>\n",
       "    </tr>\n",
       "  </tbody>\n",
       "</table>\n",
       "</div>"
      ],
      "text/plain": [
       "  Model Code              Model Type\n",
       "0         DT           Decision Tree\n",
       "1         RF           Random Forest\n",
       "2         LR       Linear Regression\n",
       "3         NN          Neural Network\n",
       "4        SVM  Support Vector Machine"
      ]
     },
     "execution_count": 19,
     "metadata": {},
     "output_type": "execute_result"
    }
   ],
   "source": [
    "model_type_df = pd.read_excel('modelling.xlsx', sheet_name='modeltype')\n",
    "model_type_df.head()"
   ]
  },
  {
   "cell_type": "code",
   "execution_count": 27,
   "metadata": {},
   "outputs": [
    {
     "name": "stdout",
     "output_type": "stream",
     "text": [
      "missing values: 0\n",
      "duplicates: 0\n"
     ]
    }
   ],
   "source": [
    "# check for missing values\n",
    "print(f\"missing values: {model_type_df.isnull().sum().sum()}\")\n",
    "# check for duplicates\n",
    "print(f\"duplicates: {model_type_df.duplicated().sum()}\")"
   ]
  },
  {
   "cell_type": "markdown",
   "metadata": {},
   "source": [
    "# Order"
   ]
  },
  {
   "cell_type": "code",
   "execution_count": 20,
   "metadata": {},
   "outputs": [
    {
     "data": {
      "text/html": [
       "<div>\n",
       "<style scoped>\n",
       "    .dataframe tbody tr th:only-of-type {\n",
       "        vertical-align: middle;\n",
       "    }\n",
       "\n",
       "    .dataframe tbody tr th {\n",
       "        vertical-align: top;\n",
       "    }\n",
       "\n",
       "    .dataframe thead th {\n",
       "        text-align: right;\n",
       "    }\n",
       "</style>\n",
       "<table border=\"1\" class=\"dataframe\">\n",
       "  <thead>\n",
       "    <tr style=\"text-align: right;\">\n",
       "      <th></th>\n",
       "      <th>Order ID</th>\n",
       "      <th>Customer ID</th>\n",
       "      <th>Employee ID</th>\n",
       "      <th>Required Model Type</th>\n",
       "      <th>Required Accuracy</th>\n",
       "      <th>Order Date</th>\n",
       "      <th>Completion Date</th>\n",
       "      <th>Model ID</th>\n",
       "      <th>Price</th>\n",
       "    </tr>\n",
       "  </thead>\n",
       "  <tbody>\n",
       "    <tr>\n",
       "      <th>0</th>\n",
       "      <td>S231255</td>\n",
       "      <td>c0058</td>\n",
       "      <td>e00010</td>\n",
       "      <td>NN</td>\n",
       "      <td>60.31</td>\n",
       "      <td>2023/11/25</td>\n",
       "      <td>2023/12/05</td>\n",
       "      <td>m0008</td>\n",
       "      <td>676</td>\n",
       "    </tr>\n",
       "    <tr>\n",
       "      <th>1</th>\n",
       "      <td>S210837</td>\n",
       "      <td>c0032</td>\n",
       "      <td>e00019</td>\n",
       "      <td>kNN</td>\n",
       "      <td>68.01</td>\n",
       "      <td>2021/09/25</td>\n",
       "      <td>2021/12/07</td>\n",
       "      <td>m0034</td>\n",
       "      <td>125</td>\n",
       "    </tr>\n",
       "    <tr>\n",
       "      <th>2</th>\n",
       "      <td>S210316</td>\n",
       "      <td>c0032</td>\n",
       "      <td>e00004</td>\n",
       "      <td>LR</td>\n",
       "      <td>70.39</td>\n",
       "      <td>2021/10/12</td>\n",
       "      <td>2021/12/17</td>\n",
       "      <td>m0075</td>\n",
       "      <td>266</td>\n",
       "    </tr>\n",
       "    <tr>\n",
       "      <th>3</th>\n",
       "      <td>S221093</td>\n",
       "      <td>c0014</td>\n",
       "      <td>e00014</td>\n",
       "      <td>NN</td>\n",
       "      <td>61.75</td>\n",
       "      <td>2022/03/25</td>\n",
       "      <td>2022/10/05</td>\n",
       "      <td>m0023</td>\n",
       "      <td>399</td>\n",
       "    </tr>\n",
       "    <tr>\n",
       "      <th>4</th>\n",
       "      <td>S210253</td>\n",
       "      <td>c0016</td>\n",
       "      <td>e00016</td>\n",
       "      <td>SVM</td>\n",
       "      <td>56.60</td>\n",
       "      <td>2021/10/22</td>\n",
       "      <td>2021/12/06</td>\n",
       "      <td>m0056</td>\n",
       "      <td>236</td>\n",
       "    </tr>\n",
       "  </tbody>\n",
       "</table>\n",
       "</div>"
      ],
      "text/plain": [
       "  Order ID Customer ID Employee ID Required Model Type  Required Accuracy  \\\n",
       "0  S231255       c0058      e00010                  NN              60.31   \n",
       "1  S210837       c0032      e00019                 kNN              68.01   \n",
       "2  S210316       c0032      e00004                  LR              70.39   \n",
       "3  S221093       c0014      e00014                  NN              61.75   \n",
       "4  S210253       c0016      e00016                 SVM              56.60   \n",
       "\n",
       "   Order Date Completion Date Model ID  Price  \n",
       "0  2023/11/25      2023/12/05    m0008    676  \n",
       "1  2021/09/25      2021/12/07    m0034    125  \n",
       "2  2021/10/12      2021/12/17    m0075    266  \n",
       "3  2022/03/25      2022/10/05    m0023    399  \n",
       "4  2021/10/22      2021/12/06    m0056    236  "
      ]
     },
     "execution_count": 20,
     "metadata": {},
     "output_type": "execute_result"
    }
   ],
   "source": [
    "order_df = pd.read_csv('order.csv')\n",
    "order_df.head()"
   ]
  },
  {
   "cell_type": "code",
   "execution_count": 21,
   "metadata": {},
   "outputs": [
    {
     "name": "stdout",
     "output_type": "stream",
     "text": [
      "missing values: 1\n",
      "duplicates: 0\n"
     ]
    }
   ],
   "source": [
    "# Check for missing values\n",
    "print(f\"missing values: {order_df.isnull().sum().sum()}\")\n",
    "# Check for duplicates\n",
    "print(f\"duplicates: {order_df.duplicated().sum()}\")"
   ]
  },
  {
   "cell_type": "code",
   "execution_count": 22,
   "metadata": {},
   "outputs": [
    {
     "name": "stdout",
     "output_type": "stream",
     "text": [
      "    Order ID Customer ID Employee ID Required Model Type  Required Accuracy  \\\n",
      "855  S230111         NaN      e00014                  NN              62.95   \n",
      "\n",
      "     Order Date Completion Date Model ID  Price  \n",
      "855  2023/12/05      2023/12/23    m0043    529  \n"
     ]
    }
   ],
   "source": [
    "# show the row with missing values\n",
    "print(order_df[order_df.isnull().any(axis=1)])"
   ]
  },
  {
   "cell_type": "code",
   "execution_count": 23,
   "metadata": {},
   "outputs": [
    {
     "name": "stdout",
     "output_type": "stream",
     "text": [
      "customer_id not in list of customer_id: \n",
      "     Order ID    Customer ID Employee ID Required Model Type  \\\n",
      "855   S230111            NaN      e00014                  NN   \n",
      "2720  S210223  c0068xxxxxxxx      e00016                  DT   \n",
      "\n",
      "      Required Accuracy  Order Date Completion Date Model ID  Price  \n",
      "855               62.95  2023/12/05      2023/12/23    m0043    529  \n",
      "2720              56.61  2021/07/25      2021/12/16    m0005    186  \n"
     ]
    }
   ],
   "source": [
    "# check if customer_id is in the list of customer_id\n",
    "print(f\"customer_id not in list of customer_id: \\n{order_df[~order_df['Customer ID'].isin(customer_id)]}\")"
   ]
  },
  {
   "cell_type": "code",
   "execution_count": 24,
   "metadata": {},
   "outputs": [
    {
     "name": "stdout",
     "output_type": "stream",
     "text": [
      "employee_id not in list of employee_id: \n",
      "Empty DataFrame\n",
      "Columns: [Order ID, Customer ID, Employee ID, Required Model Type, Required Accuracy, Order Date, Completion Date, Model ID, Price]\n",
      "Index: []\n"
     ]
    }
   ],
   "source": [
    "# check if employee_id is in the list of employee_id\n",
    "print(f\"employee_id not in list of employee_id: \\n{order_df[~order_df['Employee ID'].isin(employee_id)]}\")"
   ]
  },
  {
   "cell_type": "code",
   "execution_count": 25,
   "metadata": {},
   "outputs": [
    {
     "data": {
      "text/plain": [
       "<Axes: >"
      ]
     },
     "execution_count": 25,
     "metadata": {},
     "output_type": "execute_result"
    },
    {
     "data": {
      "image/png": "[encoded data removed]",
      "text/plain": [
       "<Figure size 640x480 with 1 Axes>"
      ]
     },
     "metadata": {},
     "output_type": "display_data"
    }
   ],
   "source": [
    "# show a histogram of the price column\n",
    "order_df['Price'].hist()"
   ]
  },
  {
   "cell_type": "code",
   "execution_count": 26,
   "metadata": {},
   "outputs": [
    {
     "name": "stdout",
     "output_type": "stream",
     "text": [
      "Required Model Type\n",
      "NN      1360\n",
      "SVM      318\n",
      "LR       315\n",
      "DT       308\n",
      "kNN      300\n",
      "logR     293\n",
      "NB       283\n",
      "RF       267\n",
      "Name: count, dtype: int64\n"
     ]
    }
   ],
   "source": [
    "# show the count of each model type\n",
    "print(order_df['Required Model Type'].value_counts())"
   ]
  }
 ],
 "metadata": {
  "kernelspec": {
   "display_name": "Python 3",
   "language": "python",
   "name": "python3"
  },
  "language_info": {
   "codemirror_mode": {
    "name": "ipython",
    "version": 3
   },
   "file_extension": ".py",
   "mimetype": "text/x-python",
   "name": "python",
   "nbconvert_exporter": "python",
   "pygments_lexer": "ipython3",
   "version": "3.11.3"
  }
 },
 "nbformat": 4,
 "nbformat_minor": 2
}
