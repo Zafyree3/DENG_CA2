{
 "cells": [
  {
   "cell_type": "code",
   "execution_count": 1,
   "metadata": {},
   "outputs": [],
   "source": [
    "import pandas as pd"
   ]
  },
  {
   "cell_type": "markdown",
   "metadata": {},
   "source": [
    "# Customers"
   ]
  },
  {
   "cell_type": "code",
   "execution_count": 2,
   "metadata": {},
   "outputs": [
    {
     "data": {
      "text/html": [
       "<div>\n",
       "<style scoped>\n",
       "    .dataframe tbody tr th:only-of-type {\n",
       "        vertical-align: middle;\n",
       "    }\n",
       "\n",
       "    .dataframe tbody tr th {\n",
       "        vertical-align: top;\n",
       "    }\n",
       "\n",
       "    .dataframe thead th {\n",
       "        text-align: right;\n",
       "    }\n",
       "</style>\n",
       "<table border=\"1\" class=\"dataframe\">\n",
       "  <thead>\n",
       "    <tr style=\"text-align: right;\">\n",
       "      <th></th>\n",
       "      <th>Customer ID</th>\n",
       "      <th>First Name</th>\n",
       "      <th>Last Name</th>\n",
       "      <th>Company Name</th>\n",
       "      <th>Contact Number</th>\n",
       "    </tr>\n",
       "  </thead>\n",
       "  <tbody>\n",
       "    <tr>\n",
       "      <th>0</th>\n",
       "      <td>c0001</td>\n",
       "      <td>John</td>\n",
       "      <td>Doe</td>\n",
       "      <td>ABC Company</td>\n",
       "      <td>5123456789</td>\n",
       "    </tr>\n",
       "    <tr>\n",
       "      <th>1</th>\n",
       "      <td>c0002</td>\n",
       "      <td>Jane</td>\n",
       "      <td>Smith</td>\n",
       "      <td>XYZ Corporation</td>\n",
       "      <td>7123456789</td>\n",
       "    </tr>\n",
       "    <tr>\n",
       "      <th>2</th>\n",
       "      <td>c0003</td>\n",
       "      <td>Michael</td>\n",
       "      <td>Johnson</td>\n",
       "      <td>Acme Inc.</td>\n",
       "      <td>9123456787</td>\n",
       "    </tr>\n",
       "    <tr>\n",
       "      <th>3</th>\n",
       "      <td>c0004</td>\n",
       "      <td>Emily</td>\n",
       "      <td>Williams</td>\n",
       "      <td>Beta Technologies</td>\n",
       "      <td>3123456789</td>\n",
       "    </tr>\n",
       "    <tr>\n",
       "      <th>4</th>\n",
       "      <td>c0005</td>\n",
       "      <td>David</td>\n",
       "      <td>Brown</td>\n",
       "      <td>Gamma Enterprises</td>\n",
       "      <td>4123456789</td>\n",
       "    </tr>\n",
       "  </tbody>\n",
       "</table>\n",
       "</div>"
      ],
      "text/plain": [
       "  Customer ID First Name Last Name       Company Name  Contact Number\n",
       "0       c0001       John       Doe        ABC Company      5123456789\n",
       "1       c0002       Jane     Smith    XYZ Corporation      7123456789\n",
       "2       c0003    Michael   Johnson          Acme Inc.      9123456787\n",
       "3       c0004      Emily  Williams  Beta Technologies      3123456789\n",
       "4       c0005      David     Brown  Gamma Enterprises      4123456789"
      ]
     },
     "execution_count": 2,
     "metadata": {},
     "output_type": "execute_result"
    }
   ],
   "source": [
    "customer_df = pd.read_csv('customer.csv')\n",
    "customer_df.head()"
   ]
  },
  {
   "cell_type": "code",
   "execution_count": 3,
   "metadata": {},
   "outputs": [
    {
     "name": "stdout",
     "output_type": "stream",
     "text": [
      "missing values: 0\n",
      "duplicates: 0\n",
      "lengths of contact number column: [10]\n",
      "unique values in Customer ID: 73\n",
      "unique values in First Name: 73\n",
      "unique values in Last Name: 71\n",
      "unique values in Company Name: 19\n",
      "unique values in Contact Number: 50\n",
      "duplicates in contact number: 23\n",
      "Contact Number\n",
      "5123456789    4\n",
      "4123456786    3\n",
      "2123456789    2\n",
      "7123456784    1\n",
      "5123456783    1\n",
      "1123456787    1\n",
      "9123456784    1\n",
      "7123456782    1\n",
      "9123456789    1\n",
      "2123456785    1\n",
      "4123456789    1\n",
      "1123456782    1\n",
      "8123456789    1\n",
      "9123456781    1\n",
      "7123456789    1\n",
      "6123456789    1\n",
      "3123456783    1\n",
      "Name: count, dtype: int64\n"
     ]
    }
   ],
   "source": [
    "# Check for missing values\n",
    "print(f\"missing values: {customer_df.isnull().sum().sum()}\")\n",
    "# Check for duplicates\n",
    "print(f\"duplicates: {customer_df.duplicated().sum()}\")\n",
    "# check lengths of contact number column\n",
    "print(f\"lengths of contact number column: {customer_df['Contact Number'].apply(str).apply(len).unique()}\")\n",
    "\n",
    "# check for unique values in each of the columns\n",
    "for col in customer_df.columns:\n",
    "    print(f\"unique values in {col}: {customer_df[col].nunique()}\")\n",
    "\n",
    "contact_number = customer_df['Contact Number']\n",
    "\n",
    "# check for duplicates in contact number\n",
    "print(f\"duplicates in contact number: {contact_number.duplicated().sum()}\")\n",
    "\n",
    "#display the duplicates and the number of times they appear\n",
    "print(contact_number[contact_number.duplicated()].value_counts())"
   ]
  },
  {
   "cell_type": "code",
   "execution_count": 4,
   "metadata": {},
   "outputs": [
    {
     "name": "stdout",
     "output_type": "stream",
     "text": [
      "   Customer ID First Name  Last Name        Company Name  Contact Number\n",
      "31       c0032      Layla     Brooks   Theta Corporation      1123456782\n",
      "50       c0051       Nova  Henderson         Delta Corp.      1123456782\n",
      "61       c0062      Eliza      Welch         Delta Corp.      1123456787\n",
      "68       c0069    Camilla      Reyes          Nu Company      1123456787\n",
      "51       c0052      Ellie       Gray        Epsilon Tech      2123456785\n",
      "12       c0013     Sophia      Lopez          Omega Inc.      2123456785\n",
      "69       c0070        Kai    Huffman      Mu Corporation      2123456789\n",
      "62       c0063      Bryce    Cameron        Epsilon Tech      2123456789\n",
      "7        c0008    Jessica      Moore     Zeta Industries      2123456789\n",
      "63       c0064     Finley    Collins   Gamma Enterprises      3123456783\n",
      "70       c0071  Anastasia    Stevens        Pi Solutions      3123456783\n",
      "9        c0010       Emma   Anderson   Theta Corporation      4123456786\n",
      "71       c0072       Drew    Osborne        Lambda Group      4123456786\n",
      "64       c0065     Sawyer      Flynn   Theta Corporation      4123456786\n",
      "33       c0034     Hannah   Mitchell  Sigma Technologies      4123456786\n",
      "4        c0005      David      Brown   Gamma Enterprises      4123456789\n",
      "52       c0053    Braxton     Watson   Gamma Enterprises      4123456789\n",
      "20       c0021   Benjamin       Hall   Theta Corporation      5123456783\n",
      "53       c0054    Kennedy     Bryant   Theta Corporation      5123456783\n",
      "58       c0059   Maverick     Bishop      Mu Corporation      5123456789\n",
      "65       c0066       Hope      Patel       Kappa Systems      5123456789\n",
      "0        c0001       John        Doe         ABC Company      5123456789\n",
      "72       c0073     Skyler  Gallagher         Delta Corp.      5123456789\n",
      "42       c0043      Julia   Sullivan   Theta Corporation      5123456789\n",
      "5        c0006      Sarah     Miller     Delta Solutions      6123456789\n",
      "34       c0035   Davidson      Price          Omega Inc.      6123456789\n",
      "59       c0060     Sienna   Saunders        Pi Solutions      7123456782\n",
      "66       c0067      Gemma      Hogan  Sigma Technologies      7123456782\n",
      "22       c0023      Jacob      Scott  Sigma Technologies      7123456784\n",
      "10       c0011     Olivia   Martinez       Kappa Systems      7123456784\n",
      "1        c0002       Jane      Smith     XYZ Corporation      7123456789\n",
      "38       c0039    Jameson       Cruz        Lambda Group      7123456789\n",
      "49       c0050     Austin     Barnes        Lambda Group      8123456789\n",
      "6        c0007     Daniel     Wilson       Epsilon Group      8123456789\n",
      "39       c0040      Riley       West         Delta Corp.      9123456781\n",
      "15       c0016  Alexander      Perez        Pi Solutions      9123456781\n",
      "60       c0061    Coleman       Tate        Lambda Group      9123456784\n",
      "67       c0068       Knox    Goodman          Omega Inc.      9123456784\n",
      "30       c0031     Elijah       Ward   Gamma Enterprises      9123456789\n",
      "55       c0056    Raelynn       Park  Sigma Technologies      9123456789\n"
     ]
    }
   ],
   "source": [
    "#show the rows with the duplicated contact numbers and order by contact number\n",
    "print(customer_df[customer_df['Contact Number'].duplicated(keep=False)].sort_values('Contact Number'))"
   ]
  },
  {
   "cell_type": "code",
   "execution_count": 5,
   "metadata": {},
   "outputs": [],
   "source": [
    "# get customer_id list\n",
    "customer_id = customer_df['Customer ID']"
   ]
  },
  {
   "cell_type": "markdown",
   "metadata": {},
   "source": [
    "# Employee"
   ]
  },
  {
   "cell_type": "code",
   "execution_count": 6,
   "metadata": {},
   "outputs": [
    {
     "data": {
      "text/html": [
       "<div>\n",
       "<style scoped>\n",
       "    .dataframe tbody tr th:only-of-type {\n",
       "        vertical-align: middle;\n",
       "    }\n",
       "\n",
       "    .dataframe tbody tr th {\n",
       "        vertical-align: top;\n",
       "    }\n",
       "\n",
       "    .dataframe thead th {\n",
       "        text-align: right;\n",
       "    }\n",
       "</style>\n",
       "<table border=\"1\" class=\"dataframe\">\n",
       "  <thead>\n",
       "    <tr style=\"text-align: right;\">\n",
       "      <th></th>\n",
       "      <th>Employee ID</th>\n",
       "      <th>First Name</th>\n",
       "      <th>Last Name</th>\n",
       "      <th>Contact Number</th>\n",
       "      <th>Gender</th>\n",
       "    </tr>\n",
       "  </thead>\n",
       "  <tbody>\n",
       "    <tr>\n",
       "      <th>0</th>\n",
       "      <td>e00001</td>\n",
       "      <td>Christopher</td>\n",
       "      <td>Thomas</td>\n",
       "      <td>7123456790</td>\n",
       "      <td>Male</td>\n",
       "    </tr>\n",
       "    <tr>\n",
       "      <th>1</th>\n",
       "      <td>e00002</td>\n",
       "      <td>Isabella</td>\n",
       "      <td>Collins</td>\n",
       "      <td>9123456788</td>\n",
       "      <td>Female</td>\n",
       "    </tr>\n",
       "    <tr>\n",
       "      <th>2</th>\n",
       "      <td>e00003</td>\n",
       "      <td>James</td>\n",
       "      <td>Allen</td>\n",
       "      <td>3123456788</td>\n",
       "      <td>Male</td>\n",
       "    </tr>\n",
       "    <tr>\n",
       "      <th>3</th>\n",
       "      <td>e00004</td>\n",
       "      <td>Elizabeth</td>\n",
       "      <td>Morris</td>\n",
       "      <td>4123456790</td>\n",
       "      <td>Female</td>\n",
       "    </tr>\n",
       "    <tr>\n",
       "      <th>4</th>\n",
       "      <td>e00005</td>\n",
       "      <td>David</td>\n",
       "      <td>Clark</td>\n",
       "      <td>6123456790</td>\n",
       "      <td>Male</td>\n",
       "    </tr>\n",
       "  </tbody>\n",
       "</table>\n",
       "</div>"
      ],
      "text/plain": [
       "  Employee ID   First Name Last Name  Contact Number  Gender\n",
       "0      e00001  Christopher    Thomas      7123456790    Male\n",
       "1      e00002     Isabella   Collins      9123456788  Female\n",
       "2      e00003        James     Allen      3123456788    Male\n",
       "3      e00004    Elizabeth    Morris      4123456790  Female\n",
       "4      e00005        David     Clark      6123456790    Male"
      ]
     },
     "execution_count": 6,
     "metadata": {},
     "output_type": "execute_result"
    }
   ],
   "source": [
    "employee_df = pd.read_csv('employee.csv')\n",
    "employee_df.head()"
   ]
  },
  {
   "cell_type": "code",
   "execution_count": 7,
   "metadata": {},
   "outputs": [
    {
     "name": "stdout",
     "output_type": "stream",
     "text": [
      "missing values: 0\n",
      "duplicates: 0\n"
     ]
    }
   ],
   "source": [
    "# check for missing values\n",
    "print(f\"missing values: {employee_df.isnull().sum().sum()}\")\n",
    "# check for duplicates\n",
    "print(f\"duplicates: {employee_df.duplicated().sum()}\")"
   ]
  },
  {
   "cell_type": "code",
   "execution_count": 8,
   "metadata": {},
   "outputs": [
    {
     "name": "stdout",
     "output_type": "stream",
     "text": [
      "duplicates in contact number: 2\n",
      "   Employee ID First Name Last Name  Contact Number  Gender\n",
      "11      e00012        Ava    Parker      2123456790  Female\n",
      "21      e00022      Chloe     Baker      4123456790  Female\n"
     ]
    }
   ],
   "source": [
    "#check for duplicated contact number\n",
    "contact_number = employee_df['Contact Number']\n",
    "print(f\"duplicates in contact number: {contact_number.duplicated().sum()}\")\n",
    "\n",
    "# show rows with duplicated contact number\n",
    "print(employee_df[contact_number.duplicated()])\n",
    "# wait this dont makes sense, the contact number is unique, \"2123456790\" and \"4123456790\" are different numbers"
   ]
  },
  {
   "cell_type": "code",
   "execution_count": 9,
   "metadata": {},
   "outputs": [],
   "source": [
    "# create a list of employee_id\n",
    "employee_id = employee_df['Employee ID']"
   ]
  },
  {
   "cell_type": "code",
   "execution_count": 10,
   "metadata": {},
   "outputs": [
    {
     "data": {
      "text/html": [
       "<div>\n",
       "<style scoped>\n",
       "    .dataframe tbody tr th:only-of-type {\n",
       "        vertical-align: middle;\n",
       "    }\n",
       "\n",
       "    .dataframe tbody tr th {\n",
       "        vertical-align: top;\n",
       "    }\n",
       "\n",
       "    .dataframe thead th {\n",
       "        text-align: right;\n",
       "    }\n",
       "</style>\n",
       "<table border=\"1\" class=\"dataframe\">\n",
       "  <thead>\n",
       "    <tr style=\"text-align: right;\">\n",
       "      <th></th>\n",
       "      <th>Employee ID</th>\n",
       "      <th>First Name</th>\n",
       "      <th>Last Name</th>\n",
       "      <th>Contact Number</th>\n",
       "      <th>Gender</th>\n",
       "    </tr>\n",
       "  </thead>\n",
       "  <tbody>\n",
       "    <tr>\n",
       "      <th>0</th>\n",
       "      <td>e00001</td>\n",
       "      <td>Christopher</td>\n",
       "      <td>Thomas</td>\n",
       "      <td>7123456790</td>\n",
       "      <td>Male</td>\n",
       "    </tr>\n",
       "    <tr>\n",
       "      <th>1</th>\n",
       "      <td>e00002</td>\n",
       "      <td>Isabella</td>\n",
       "      <td>Collins</td>\n",
       "      <td>9123456788</td>\n",
       "      <td>Female</td>\n",
       "    </tr>\n",
       "    <tr>\n",
       "      <th>2</th>\n",
       "      <td>e00003</td>\n",
       "      <td>James</td>\n",
       "      <td>Allen</td>\n",
       "      <td>3123456788</td>\n",
       "      <td>Male</td>\n",
       "    </tr>\n",
       "    <tr>\n",
       "      <th>3</th>\n",
       "      <td>e00004</td>\n",
       "      <td>Elizabeth</td>\n",
       "      <td>Morris</td>\n",
       "      <td>4123456790</td>\n",
       "      <td>Female</td>\n",
       "    </tr>\n",
       "    <tr>\n",
       "      <th>4</th>\n",
       "      <td>e00005</td>\n",
       "      <td>David</td>\n",
       "      <td>Clark</td>\n",
       "      <td>6123456790</td>\n",
       "      <td>Male</td>\n",
       "    </tr>\n",
       "    <tr>\n",
       "      <th>5</th>\n",
       "      <td>e00006</td>\n",
       "      <td>Sophia</td>\n",
       "      <td>Young</td>\n",
       "      <td>8123456788</td>\n",
       "      <td>Female</td>\n",
       "    </tr>\n",
       "    <tr>\n",
       "      <th>6</th>\n",
       "      <td>e00007</td>\n",
       "      <td>Matthew</td>\n",
       "      <td>Adams</td>\n",
       "      <td>2123456790</td>\n",
       "      <td>Male</td>\n",
       "    </tr>\n",
       "    <tr>\n",
       "      <th>7</th>\n",
       "      <td>e00008</td>\n",
       "      <td>Olivia</td>\n",
       "      <td>Hall</td>\n",
       "      <td>5123456790</td>\n",
       "      <td>Female</td>\n",
       "    </tr>\n",
       "    <tr>\n",
       "      <th>8</th>\n",
       "      <td>e00009</td>\n",
       "      <td>Ethan</td>\n",
       "      <td>Russell</td>\n",
       "      <td>7123456785</td>\n",
       "      <td>Male</td>\n",
       "    </tr>\n",
       "    <tr>\n",
       "      <th>9</th>\n",
       "      <td>e00010</td>\n",
       "      <td>Emma</td>\n",
       "      <td>Watson</td>\n",
       "      <td>9123456786</td>\n",
       "      <td>Female</td>\n",
       "    </tr>\n",
       "    <tr>\n",
       "      <th>10</th>\n",
       "      <td>e00011</td>\n",
       "      <td>Alexander</td>\n",
       "      <td>Ross</td>\n",
       "      <td>1123456790</td>\n",
       "      <td>Male</td>\n",
       "    </tr>\n",
       "    <tr>\n",
       "      <th>11</th>\n",
       "      <td>e00012</td>\n",
       "      <td>Ava</td>\n",
       "      <td>Parker</td>\n",
       "      <td>2123456790</td>\n",
       "      <td>Female</td>\n",
       "    </tr>\n",
       "    <tr>\n",
       "      <th>12</th>\n",
       "      <td>e00013</td>\n",
       "      <td>Daniel</td>\n",
       "      <td>Wright</td>\n",
       "      <td>7123456783</td>\n",
       "      <td>Male</td>\n",
       "    </tr>\n",
       "    <tr>\n",
       "      <th>13</th>\n",
       "      <td>e00014</td>\n",
       "      <td>Mia</td>\n",
       "      <td>Lewis</td>\n",
       "      <td>8123456790</td>\n",
       "      <td>Female</td>\n",
       "    </tr>\n",
       "    <tr>\n",
       "      <th>14</th>\n",
       "      <td>e00015</td>\n",
       "      <td>Benjamin</td>\n",
       "      <td>King</td>\n",
       "      <td>3123456790</td>\n",
       "      <td>Male</td>\n",
       "    </tr>\n",
       "    <tr>\n",
       "      <th>15</th>\n",
       "      <td>e00016</td>\n",
       "      <td>Emily</td>\n",
       "      <td>Scott</td>\n",
       "      <td>4123456783</td>\n",
       "      <td>Female</td>\n",
       "    </tr>\n",
       "    <tr>\n",
       "      <th>16</th>\n",
       "      <td>e00017</td>\n",
       "      <td>Jackson</td>\n",
       "      <td>Walker</td>\n",
       "      <td>5123456785</td>\n",
       "      <td>Male</td>\n",
       "    </tr>\n",
       "    <tr>\n",
       "      <th>17</th>\n",
       "      <td>e00018</td>\n",
       "      <td>Grace</td>\n",
       "      <td>Green</td>\n",
       "      <td>7123456789</td>\n",
       "      <td>Female</td>\n",
       "    </tr>\n",
       "    <tr>\n",
       "      <th>18</th>\n",
       "      <td>e00019</td>\n",
       "      <td>William</td>\n",
       "      <td>Hill</td>\n",
       "      <td>9123456784</td>\n",
       "      <td>Male</td>\n",
       "    </tr>\n",
       "    <tr>\n",
       "      <th>19</th>\n",
       "      <td>e00020</td>\n",
       "      <td>Madison</td>\n",
       "      <td>Morgan</td>\n",
       "      <td>1123456783</td>\n",
       "      <td>Female</td>\n",
       "    </tr>\n",
       "    <tr>\n",
       "      <th>20</th>\n",
       "      <td>e00021</td>\n",
       "      <td>Liam</td>\n",
       "      <td>Turner</td>\n",
       "      <td>2123456787</td>\n",
       "      <td>Male</td>\n",
       "    </tr>\n",
       "    <tr>\n",
       "      <th>21</th>\n",
       "      <td>e00022</td>\n",
       "      <td>Chloe</td>\n",
       "      <td>Baker</td>\n",
       "      <td>4123456790</td>\n",
       "      <td>Female</td>\n",
       "    </tr>\n",
       "    <tr>\n",
       "      <th>22</th>\n",
       "      <td>e00023</td>\n",
       "      <td>Ryan</td>\n",
       "      <td>Young</td>\n",
       "      <td>5123456783</td>\n",
       "      <td>Male</td>\n",
       "    </tr>\n",
       "  </tbody>\n",
       "</table>\n",
       "</div>"
      ],
      "text/plain": [
       "   Employee ID   First Name Last Name  Contact Number  Gender\n",
       "0       e00001  Christopher    Thomas      7123456790    Male\n",
       "1       e00002     Isabella   Collins      9123456788  Female\n",
       "2       e00003        James     Allen      3123456788    Male\n",
       "3       e00004    Elizabeth    Morris      4123456790  Female\n",
       "4       e00005        David     Clark      6123456790    Male\n",
       "5       e00006       Sophia     Young      8123456788  Female\n",
       "6       e00007      Matthew     Adams      2123456790    Male\n",
       "7       e00008       Olivia      Hall      5123456790  Female\n",
       "8       e00009        Ethan   Russell      7123456785    Male\n",
       "9       e00010         Emma    Watson      9123456786  Female\n",
       "10      e00011    Alexander      Ross      1123456790    Male\n",
       "11      e00012          Ava    Parker      2123456790  Female\n",
       "12      e00013       Daniel    Wright      7123456783    Male\n",
       "13      e00014          Mia     Lewis      8123456790  Female\n",
       "14      e00015     Benjamin      King      3123456790    Male\n",
       "15      e00016        Emily     Scott      4123456783  Female\n",
       "16      e00017      Jackson    Walker      5123456785    Male\n",
       "17      e00018        Grace     Green      7123456789  Female\n",
       "18      e00019      William      Hill      9123456784    Male\n",
       "19      e00020      Madison    Morgan      1123456783  Female\n",
       "20      e00021         Liam    Turner      2123456787    Male\n",
       "21      e00022        Chloe     Baker      4123456790  Female\n",
       "22      e00023         Ryan     Young      5123456783    Male"
      ]
     },
     "execution_count": 10,
     "metadata": {},
     "output_type": "execute_result"
    }
   ],
   "source": [
    "employee_df"
   ]
  },
  {
   "cell_type": "code",
   "execution_count": 11,
   "metadata": {},
   "outputs": [],
   "source": [
    "# change the value of the gender from male and female to M and F\n",
    "employee_df.replace(\"Male\", \"M\", inplace=True)\n",
    "employee_df.replace(\"Female\", \"F\", inplace=True)"
   ]
  },
  {
   "cell_type": "code",
   "execution_count": 12,
   "metadata": {},
   "outputs": [
    {
     "data": {
      "text/html": [
       "<div>\n",
       "<style scoped>\n",
       "    .dataframe tbody tr th:only-of-type {\n",
       "        vertical-align: middle;\n",
       "    }\n",
       "\n",
       "    .dataframe tbody tr th {\n",
       "        vertical-align: top;\n",
       "    }\n",
       "\n",
       "    .dataframe thead th {\n",
       "        text-align: right;\n",
       "    }\n",
       "</style>\n",
       "<table border=\"1\" class=\"dataframe\">\n",
       "  <thead>\n",
       "    <tr style=\"text-align: right;\">\n",
       "      <th></th>\n",
       "      <th>Employee ID</th>\n",
       "      <th>First Name</th>\n",
       "      <th>Last Name</th>\n",
       "      <th>Contact Number</th>\n",
       "      <th>Gender</th>\n",
       "    </tr>\n",
       "  </thead>\n",
       "  <tbody>\n",
       "    <tr>\n",
       "      <th>0</th>\n",
       "      <td>e00001</td>\n",
       "      <td>Christopher</td>\n",
       "      <td>Thomas</td>\n",
       "      <td>7123456790</td>\n",
       "      <td>M</td>\n",
       "    </tr>\n",
       "    <tr>\n",
       "      <th>1</th>\n",
       "      <td>e00002</td>\n",
       "      <td>Isabella</td>\n",
       "      <td>Collins</td>\n",
       "      <td>9123456788</td>\n",
       "      <td>F</td>\n",
       "    </tr>\n",
       "    <tr>\n",
       "      <th>2</th>\n",
       "      <td>e00003</td>\n",
       "      <td>James</td>\n",
       "      <td>Allen</td>\n",
       "      <td>3123456788</td>\n",
       "      <td>M</td>\n",
       "    </tr>\n",
       "    <tr>\n",
       "      <th>3</th>\n",
       "      <td>e00004</td>\n",
       "      <td>Elizabeth</td>\n",
       "      <td>Morris</td>\n",
       "      <td>4123456790</td>\n",
       "      <td>F</td>\n",
       "    </tr>\n",
       "    <tr>\n",
       "      <th>4</th>\n",
       "      <td>e00005</td>\n",
       "      <td>David</td>\n",
       "      <td>Clark</td>\n",
       "      <td>6123456790</td>\n",
       "      <td>M</td>\n",
       "    </tr>\n",
       "  </tbody>\n",
       "</table>\n",
       "</div>"
      ],
      "text/plain": [
       "  Employee ID   First Name Last Name  Contact Number Gender\n",
       "0      e00001  Christopher    Thomas      7123456790      M\n",
       "1      e00002     Isabella   Collins      9123456788      F\n",
       "2      e00003        James     Allen      3123456788      M\n",
       "3      e00004    Elizabeth    Morris      4123456790      F\n",
       "4      e00005        David     Clark      6123456790      M"
      ]
     },
     "execution_count": 12,
     "metadata": {},
     "output_type": "execute_result"
    }
   ],
   "source": [
    "employee_df.head()"
   ]
  },
  {
   "cell_type": "markdown",
   "metadata": {},
   "source": [
    "# Dataset"
   ]
  },
  {
   "cell_type": "code",
   "execution_count": 13,
   "metadata": {},
   "outputs": [
    {
     "data": {
      "text/html": [
       "<div>\n",
       "<style scoped>\n",
       "    .dataframe tbody tr th:only-of-type {\n",
       "        vertical-align: middle;\n",
       "    }\n",
       "\n",
       "    .dataframe tbody tr th {\n",
       "        vertical-align: top;\n",
       "    }\n",
       "\n",
       "    .dataframe thead th {\n",
       "        text-align: right;\n",
       "    }\n",
       "</style>\n",
       "<table border=\"1\" class=\"dataframe\">\n",
       "  <thead>\n",
       "    <tr style=\"text-align: right;\">\n",
       "      <th></th>\n",
       "      <th>Dataset ID</th>\n",
       "      <th>Dataset Name</th>\n",
       "    </tr>\n",
       "  </thead>\n",
       "  <tbody>\n",
       "    <tr>\n",
       "      <th>0</th>\n",
       "      <td>ds001</td>\n",
       "      <td>Retail_Sales_Data</td>\n",
       "    </tr>\n",
       "    <tr>\n",
       "      <th>1</th>\n",
       "      <td>ds002</td>\n",
       "      <td>Customer_Churn_Analysis</td>\n",
       "    </tr>\n",
       "    <tr>\n",
       "      <th>2</th>\n",
       "      <td>ds003</td>\n",
       "      <td>Stock_Market_Prices</td>\n",
       "    </tr>\n",
       "    <tr>\n",
       "      <th>3</th>\n",
       "      <td>ds004</td>\n",
       "      <td>Employee_Satisfaction_Survey</td>\n",
       "    </tr>\n",
       "    <tr>\n",
       "      <th>4</th>\n",
       "      <td>ds005</td>\n",
       "      <td>Marketing_Campaign_Performance</td>\n",
       "    </tr>\n",
       "  </tbody>\n",
       "</table>\n",
       "</div>"
      ],
      "text/plain": [
       "  Dataset ID                     Dataset Name\n",
       "0      ds001                Retail_Sales_Data\n",
       "1      ds002          Customer_Churn_Analysis\n",
       "2      ds003              Stock_Market_Prices\n",
       "3      ds004     Employee_Satisfaction_Survey\n",
       "4      ds005   Marketing_Campaign_Performance"
      ]
     },
     "execution_count": 13,
     "metadata": {},
     "output_type": "execute_result"
    }
   ],
   "source": [
    "dataset_df = pd.read_excel('modelling.xlsx', sheet_name='dataset')\n",
    "dataset_df.head()"
   ]
  },
  {
   "cell_type": "code",
   "execution_count": 14,
   "metadata": {},
   "outputs": [
    {
     "name": "stdout",
     "output_type": "stream",
     "text": [
      "missing values: 0\n",
      "duplicates: 0\n"
     ]
    }
   ],
   "source": [
    "#check for missing values\n",
    "print(f\"missing values: {dataset_df.isnull().sum().sum()}\")\n",
    "#check for duplicates\n",
    "print(f\"duplicates: {dataset_df.duplicated().sum()}\")"
   ]
  },
  {
   "cell_type": "code",
   "execution_count": 15,
   "metadata": {},
   "outputs": [],
   "source": [
    "# rename \" Dataset Name\" to \"Dataset Name\"\n",
    "dataset_df.rename(columns={' Dataset Name': 'Dataset Name'}, inplace=True)"
   ]
  },
  {
   "cell_type": "code",
   "execution_count": 16,
   "metadata": {},
   "outputs": [
    {
     "name": "stdout",
     "output_type": "stream",
     "text": [
      "Index(['Dataset ID', 'Dataset Name'], dtype='object')\n"
     ]
    }
   ],
   "source": [
    "# get the headers of the dataframe\n",
    "print(dataset_df.columns)"
   ]
  },
  {
   "cell_type": "code",
   "execution_count": 17,
   "metadata": {},
   "outputs": [
    {
     "name": "stdout",
     "output_type": "stream",
     "text": [
      "duplicates in dataset name: 0\n"
     ]
    }
   ],
   "source": [
    "# check for duplicates in Dataset Name\n",
    "dataset_name = dataset_df['Dataset Name']\n",
    "print(f\"duplicates in dataset name: {dataset_name.duplicated().sum()}\")"
   ]
  },
  {
   "cell_type": "code",
   "execution_count": 18,
   "metadata": {},
   "outputs": [],
   "source": [
    "# get list of dataset id\n",
    "dataset_id = dataset_df['Dataset ID']"
   ]
  },
  {
   "cell_type": "markdown",
   "metadata": {},
   "source": [
    "# Model Type"
   ]
  },
  {
   "cell_type": "code",
   "execution_count": 19,
   "metadata": {},
   "outputs": [
    {
     "data": {
      "text/html": [
       "<div>\n",
       "<style scoped>\n",
       "    .dataframe tbody tr th:only-of-type {\n",
       "        vertical-align: middle;\n",
       "    }\n",
       "\n",
       "    .dataframe tbody tr th {\n",
       "        vertical-align: top;\n",
       "    }\n",
       "\n",
       "    .dataframe thead th {\n",
       "        text-align: right;\n",
       "    }\n",
       "</style>\n",
       "<table border=\"1\" class=\"dataframe\">\n",
       "  <thead>\n",
       "    <tr style=\"text-align: right;\">\n",
       "      <th></th>\n",
       "      <th>Model Code</th>\n",
       "      <th>Model Type</th>\n",
       "    </tr>\n",
       "  </thead>\n",
       "  <tbody>\n",
       "    <tr>\n",
       "      <th>0</th>\n",
       "      <td>DT</td>\n",
       "      <td>Decision Tree</td>\n",
       "    </tr>\n",
       "    <tr>\n",
       "      <th>1</th>\n",
       "      <td>RF</td>\n",
       "      <td>Random Forest</td>\n",
       "    </tr>\n",
       "    <tr>\n",
       "      <th>2</th>\n",
       "      <td>LR</td>\n",
       "      <td>Linear Regression</td>\n",
       "    </tr>\n",
       "    <tr>\n",
       "      <th>3</th>\n",
       "      <td>NN</td>\n",
       "      <td>Neural Network</td>\n",
       "    </tr>\n",
       "    <tr>\n",
       "      <th>4</th>\n",
       "      <td>SVM</td>\n",
       "      <td>Support Vector Machine</td>\n",
       "    </tr>\n",
       "  </tbody>\n",
       "</table>\n",
       "</div>"
      ],
      "text/plain": [
       "  Model Code              Model Type\n",
       "0         DT           Decision Tree\n",
       "1         RF           Random Forest\n",
       "2         LR       Linear Regression\n",
       "3         NN          Neural Network\n",
       "4        SVM  Support Vector Machine"
      ]
     },
     "execution_count": 19,
     "metadata": {},
     "output_type": "execute_result"
    }
   ],
   "source": [
    "model_type_df = pd.read_excel('modelling.xlsx', sheet_name='modeltype')\n",
    "model_type_df.head()"
   ]
  },
  {
   "cell_type": "code",
   "execution_count": 20,
   "metadata": {},
   "outputs": [
    {
     "name": "stdout",
     "output_type": "stream",
     "text": [
      "missing values: 0\n",
      "duplicates: 0\n"
     ]
    }
   ],
   "source": [
    "# check for missing values\n",
    "print(f\"missing values: {model_type_df.isnull().sum().sum()}\")\n",
    "# check for duplicates\n",
    "print(f\"duplicates: {model_type_df.duplicated().sum()}\")"
   ]
  },
  {
   "cell_type": "code",
   "execution_count": 21,
   "metadata": {},
   "outputs": [],
   "source": [
    "# get the model code\n",
    "model_code = model_type_df['Model Code']"
   ]
  },
  {
   "cell_type": "markdown",
   "metadata": {},
   "source": [
    "# Model"
   ]
  },
  {
   "cell_type": "code",
   "execution_count": 22,
   "metadata": {},
   "outputs": [
    {
     "data": {
      "text/html": [
       "<div>\n",
       "<style scoped>\n",
       "    .dataframe tbody tr th:only-of-type {\n",
       "        vertical-align: middle;\n",
       "    }\n",
       "\n",
       "    .dataframe tbody tr th {\n",
       "        vertical-align: top;\n",
       "    }\n",
       "\n",
       "    .dataframe thead th {\n",
       "        text-align: right;\n",
       "    }\n",
       "</style>\n",
       "<table border=\"1\" class=\"dataframe\">\n",
       "  <thead>\n",
       "    <tr style=\"text-align: right;\">\n",
       "      <th></th>\n",
       "      <th>Model ID</th>\n",
       "      <th>Model Code</th>\n",
       "      <th>Training Date</th>\n",
       "      <th>Accuracy</th>\n",
       "      <th>Dataset ID</th>\n",
       "    </tr>\n",
       "  </thead>\n",
       "  <tbody>\n",
       "    <tr>\n",
       "      <th>0</th>\n",
       "      <td>m0001</td>\n",
       "      <td>RF</td>\n",
       "      <td>2020/06/25</td>\n",
       "      <td>93.5</td>\n",
       "      <td>ds001</td>\n",
       "    </tr>\n",
       "    <tr>\n",
       "      <th>1</th>\n",
       "      <td>m0002</td>\n",
       "      <td>NN</td>\n",
       "      <td>2020/03/12</td>\n",
       "      <td>88.2</td>\n",
       "      <td>ds002</td>\n",
       "    </tr>\n",
       "    <tr>\n",
       "      <th>2</th>\n",
       "      <td>m0003</td>\n",
       "      <td>SVM</td>\n",
       "      <td>2020/09/18</td>\n",
       "      <td>85.7</td>\n",
       "      <td>ds003</td>\n",
       "    </tr>\n",
       "    <tr>\n",
       "      <th>3</th>\n",
       "      <td>m0004</td>\n",
       "      <td>kNN</td>\n",
       "      <td>2020/07/19</td>\n",
       "      <td>91.4</td>\n",
       "      <td>ds004</td>\n",
       "    </tr>\n",
       "    <tr>\n",
       "      <th>4</th>\n",
       "      <td>m0005</td>\n",
       "      <td>DT</td>\n",
       "      <td>2020/02/05</td>\n",
       "      <td>86.9</td>\n",
       "      <td>ds005</td>\n",
       "    </tr>\n",
       "  </tbody>\n",
       "</table>\n",
       "</div>"
      ],
      "text/plain": [
       "  Model ID Model Code Training Date  Accuracy Dataset ID\n",
       "0    m0001         RF    2020/06/25      93.5      ds001\n",
       "1    m0002         NN    2020/03/12      88.2      ds002\n",
       "2    m0003        SVM    2020/09/18      85.7      ds003\n",
       "3    m0004        kNN    2020/07/19      91.4      ds004\n",
       "4    m0005         DT    2020/02/05      86.9      ds005"
      ]
     },
     "execution_count": 22,
     "metadata": {},
     "output_type": "execute_result"
    }
   ],
   "source": [
    "model_df = pd.read_excel('modelling.xlsx', sheet_name='model')\n",
    "model_df.head()"
   ]
  },
  {
   "cell_type": "code",
   "execution_count": 23,
   "metadata": {},
   "outputs": [
    {
     "name": "stdout",
     "output_type": "stream",
     "text": [
      "missing values: 0\n",
      "duplicates: 0\n"
     ]
    }
   ],
   "source": [
    "#check for missing values\n",
    "print(f\"missing values: {model_df.isnull().sum().sum()}\")\n",
    "#check for duplicates\n",
    "print(f\"duplicates: {model_df.duplicated().sum()}\")"
   ]
  },
  {
   "cell_type": "code",
   "execution_count": 24,
   "metadata": {},
   "outputs": [
    {
     "name": "stdout",
     "output_type": "stream",
     "text": [
      "Dataset ID in dataset id: Empty DataFrame\n",
      "Columns: [Model ID, Model Code, Training Date, Accuracy, Dataset ID]\n",
      "Index: []\n"
     ]
    }
   ],
   "source": [
    "# check if Dataset ID is in dataset id\n",
    "print(f\"Dataset ID in dataset id: {model_df[~model_df['Dataset ID'].isin(dataset_id)]}\")\n"
   ]
  },
  {
   "cell_type": "code",
   "execution_count": 25,
   "metadata": {},
   "outputs": [
    {
     "name": "stdout",
     "output_type": "stream",
     "text": [
      "Model Code in model code:    Model ID Model Code Training Date  Accuracy Dataset ID\n",
      "6     m0007       logR    2020/05/28      84.3      ds007\n",
      "13    m0014       logR    2020/09/24      83.4      ds014\n",
      "21    m0022       logR    2020/11/10      82.6      ds022\n",
      "27    m0028       logR    2020/09/08      85.2      ds028\n",
      "35    m0036       logR    2020/03/22      84.9      ds007\n",
      "43    m0044       logR    2020/05/21      83.6      ds015\n",
      "50    m0051       logR    2020/04/24      84.1      ds022\n",
      "58    m0059       logR    2020/01/29      83.2      ds001\n",
      "65    m0066       logR    2020/05/24      84.8      ds008\n",
      "73    m0074       logR    2020/04/09      83.8      ds016\n",
      "81    m0082       logR    2020/06/22      84.5      ds024\n"
     ]
    }
   ],
   "source": [
    "# check if model code is in model code\n",
    "print(f\"Model Code in model code: {model_df[~model_df['Model Code'].isin(model_code)]}\")"
   ]
  },
  {
   "cell_type": "code",
   "execution_count": 26,
   "metadata": {},
   "outputs": [],
   "source": [
    "# replace the logR to LogR so the values are correct\n",
    "model_df['Model Code'].replace('logR', 'LogR', inplace=True)"
   ]
  },
  {
   "cell_type": "code",
   "execution_count": 27,
   "metadata": {},
   "outputs": [
    {
     "name": "stdout",
     "output_type": "stream",
     "text": [
      "Model Code in model code: Empty DataFrame\n",
      "Columns: [Model ID, Model Code, Training Date, Accuracy, Dataset ID]\n",
      "Index: []\n"
     ]
    }
   ],
   "source": [
    "# check if model code is in model code\n",
    "print(f\"Model Code in model code: {model_df[~model_df['Model Code'].isin(model_code)]}\")"
   ]
  },
  {
   "cell_type": "code",
   "execution_count": 28,
   "metadata": {},
   "outputs": [
    {
     "data": {
      "text/html": [
       "<div>\n",
       "<style scoped>\n",
       "    .dataframe tbody tr th:only-of-type {\n",
       "        vertical-align: middle;\n",
       "    }\n",
       "\n",
       "    .dataframe tbody tr th {\n",
       "        vertical-align: top;\n",
       "    }\n",
       "\n",
       "    .dataframe thead th {\n",
       "        text-align: right;\n",
       "    }\n",
       "</style>\n",
       "<table border=\"1\" class=\"dataframe\">\n",
       "  <thead>\n",
       "    <tr style=\"text-align: right;\">\n",
       "      <th></th>\n",
       "      <th>Model Code</th>\n",
       "      <th>Model Type</th>\n",
       "    </tr>\n",
       "  </thead>\n",
       "  <tbody>\n",
       "    <tr>\n",
       "      <th>0</th>\n",
       "      <td>DT</td>\n",
       "      <td>Decision Tree</td>\n",
       "    </tr>\n",
       "    <tr>\n",
       "      <th>1</th>\n",
       "      <td>RF</td>\n",
       "      <td>Random Forest</td>\n",
       "    </tr>\n",
       "    <tr>\n",
       "      <th>2</th>\n",
       "      <td>LR</td>\n",
       "      <td>Linear Regression</td>\n",
       "    </tr>\n",
       "    <tr>\n",
       "      <th>3</th>\n",
       "      <td>NN</td>\n",
       "      <td>Neural Network</td>\n",
       "    </tr>\n",
       "    <tr>\n",
       "      <th>4</th>\n",
       "      <td>SVM</td>\n",
       "      <td>Support Vector Machine</td>\n",
       "    </tr>\n",
       "  </tbody>\n",
       "</table>\n",
       "</div>"
      ],
      "text/plain": [
       "  Model Code              Model Type\n",
       "0         DT           Decision Tree\n",
       "1         RF           Random Forest\n",
       "2         LR       Linear Regression\n",
       "3         NN          Neural Network\n",
       "4        SVM  Support Vector Machine"
      ]
     },
     "execution_count": 28,
     "metadata": {},
     "output_type": "execute_result"
    }
   ],
   "source": [
    "model_type_df = pd.read_excel('modelling.xlsx', sheet_name='modeltype')\n",
    "model_type_df.head()"
   ]
  },
  {
   "cell_type": "code",
   "execution_count": 29,
   "metadata": {},
   "outputs": [
    {
     "name": "stdout",
     "output_type": "stream",
     "text": [
      "missing values: 0\n",
      "duplicates: 0\n"
     ]
    }
   ],
   "source": [
    "# check for missing values\n",
    "print(f\"missing values: {model_type_df.isnull().sum().sum()}\")\n",
    "# check for duplicates\n",
    "print(f\"duplicates: {model_type_df.duplicated().sum()}\")"
   ]
  },
  {
   "cell_type": "markdown",
   "metadata": {},
   "source": [
    "# Order"
   ]
  },
  {
   "cell_type": "code",
   "execution_count": 30,
   "metadata": {},
   "outputs": [
    {
     "data": {
      "text/html": [
       "<div>\n",
       "<style scoped>\n",
       "    .dataframe tbody tr th:only-of-type {\n",
       "        vertical-align: middle;\n",
       "    }\n",
       "\n",
       "    .dataframe tbody tr th {\n",
       "        vertical-align: top;\n",
       "    }\n",
       "\n",
       "    .dataframe thead th {\n",
       "        text-align: right;\n",
       "    }\n",
       "</style>\n",
       "<table border=\"1\" class=\"dataframe\">\n",
       "  <thead>\n",
       "    <tr style=\"text-align: right;\">\n",
       "      <th></th>\n",
       "      <th>Order ID</th>\n",
       "      <th>Customer ID</th>\n",
       "      <th>Employee ID</th>\n",
       "      <th>Required Model Type</th>\n",
       "      <th>Required Accuracy</th>\n",
       "      <th>Order Date</th>\n",
       "      <th>Completion Date</th>\n",
       "      <th>Model ID</th>\n",
       "      <th>Price</th>\n",
       "    </tr>\n",
       "  </thead>\n",
       "  <tbody>\n",
       "    <tr>\n",
       "      <th>0</th>\n",
       "      <td>S231255</td>\n",
       "      <td>c0058</td>\n",
       "      <td>e00010</td>\n",
       "      <td>NN</td>\n",
       "      <td>60.31</td>\n",
       "      <td>2023/11/25</td>\n",
       "      <td>2023/12/05</td>\n",
       "      <td>m0008</td>\n",
       "      <td>676</td>\n",
       "    </tr>\n",
       "    <tr>\n",
       "      <th>1</th>\n",
       "      <td>S210837</td>\n",
       "      <td>c0032</td>\n",
       "      <td>e00019</td>\n",
       "      <td>kNN</td>\n",
       "      <td>68.01</td>\n",
       "      <td>2021/09/25</td>\n",
       "      <td>2021/12/07</td>\n",
       "      <td>m0034</td>\n",
       "      <td>125</td>\n",
       "    </tr>\n",
       "    <tr>\n",
       "      <th>2</th>\n",
       "      <td>S210316</td>\n",
       "      <td>c0032</td>\n",
       "      <td>e00004</td>\n",
       "      <td>LR</td>\n",
       "      <td>70.39</td>\n",
       "      <td>2021/10/12</td>\n",
       "      <td>2021/12/17</td>\n",
       "      <td>m0075</td>\n",
       "      <td>266</td>\n",
       "    </tr>\n",
       "    <tr>\n",
       "      <th>3</th>\n",
       "      <td>S221093</td>\n",
       "      <td>c0014</td>\n",
       "      <td>e00014</td>\n",
       "      <td>NN</td>\n",
       "      <td>61.75</td>\n",
       "      <td>2022/03/25</td>\n",
       "      <td>2022/10/05</td>\n",
       "      <td>m0023</td>\n",
       "      <td>399</td>\n",
       "    </tr>\n",
       "    <tr>\n",
       "      <th>4</th>\n",
       "      <td>S210253</td>\n",
       "      <td>c0016</td>\n",
       "      <td>e00016</td>\n",
       "      <td>SVM</td>\n",
       "      <td>56.60</td>\n",
       "      <td>2021/10/22</td>\n",
       "      <td>2021/12/06</td>\n",
       "      <td>m0056</td>\n",
       "      <td>236</td>\n",
       "    </tr>\n",
       "  </tbody>\n",
       "</table>\n",
       "</div>"
      ],
      "text/plain": [
       "  Order ID Customer ID Employee ID Required Model Type  Required Accuracy  \\\n",
       "0  S231255       c0058      e00010                  NN              60.31   \n",
       "1  S210837       c0032      e00019                 kNN              68.01   \n",
       "2  S210316       c0032      e00004                  LR              70.39   \n",
       "3  S221093       c0014      e00014                  NN              61.75   \n",
       "4  S210253       c0016      e00016                 SVM              56.60   \n",
       "\n",
       "   Order Date Completion Date Model ID  Price  \n",
       "0  2023/11/25      2023/12/05    m0008    676  \n",
       "1  2021/09/25      2021/12/07    m0034    125  \n",
       "2  2021/10/12      2021/12/17    m0075    266  \n",
       "3  2022/03/25      2022/10/05    m0023    399  \n",
       "4  2021/10/22      2021/12/06    m0056    236  "
      ]
     },
     "execution_count": 30,
     "metadata": {},
     "output_type": "execute_result"
    }
   ],
   "source": [
    "order_df = pd.read_csv('order.csv')\n",
    "order_df.head()"
   ]
  },
  {
   "cell_type": "code",
   "execution_count": 31,
   "metadata": {},
   "outputs": [
    {
     "name": "stdout",
     "output_type": "stream",
     "text": [
      "missing values: 1\n",
      "duplicates: 0\n"
     ]
    }
   ],
   "source": [
    "# Check for missing values\n",
    "print(f\"missing values: {order_df.isnull().sum().sum()}\")\n",
    "# Check for duplicates\n",
    "print(f\"duplicates: {order_df.duplicated().sum()}\")"
   ]
  },
  {
   "cell_type": "code",
   "execution_count": 32,
   "metadata": {},
   "outputs": [
    {
     "name": "stdout",
     "output_type": "stream",
     "text": [
      "    Order ID Customer ID Employee ID Required Model Type  Required Accuracy  \\\n",
      "855  S230111         NaN      e00014                  NN              62.95   \n",
      "\n",
      "     Order Date Completion Date Model ID  Price  \n",
      "855  2023/12/05      2023/12/23    m0043    529  \n"
     ]
    }
   ],
   "source": [
    "# show the row with missing values\n",
    "print(order_df[order_df.isnull().any(axis=1)])"
   ]
  },
  {
   "cell_type": "code",
   "execution_count": 33,
   "metadata": {},
   "outputs": [],
   "source": [
    "# remove rows with missing values\n",
    "order_df.dropna(inplace=True)"
   ]
  },
  {
   "cell_type": "code",
   "execution_count": 34,
   "metadata": {},
   "outputs": [
    {
     "name": "stdout",
     "output_type": "stream",
     "text": [
      "customer_id not in list of customer_id: \n",
      "     Order ID    Customer ID Employee ID Required Model Type  \\\n",
      "2720  S210223  c0068xxxxxxxx      e00016                  DT   \n",
      "\n",
      "      Required Accuracy  Order Date Completion Date Model ID  Price  \n",
      "2720              56.61  2021/07/25      2021/12/16    m0005    186  \n"
     ]
    }
   ],
   "source": [
    "# check if customer_id is in the list of customer_id\n",
    "print(f\"customer_id not in list of customer_id: \\n{order_df[~order_df['Customer ID'].isin(customer_id)]}\")"
   ]
  },
  {
   "cell_type": "code",
   "execution_count": 35,
   "metadata": {},
   "outputs": [],
   "source": [
    "# remove if customer_id is not in the list of customer_id\n",
    "order_df = order_df[order_df['Customer ID'].isin(customer_id)]"
   ]
  },
  {
   "cell_type": "code",
   "execution_count": 36,
   "metadata": {},
   "outputs": [
    {
     "name": "stdout",
     "output_type": "stream",
     "text": [
      "employee_id not in list of employee_id: \n",
      "Empty DataFrame\n",
      "Columns: [Order ID, Customer ID, Employee ID, Required Model Type, Required Accuracy, Order Date, Completion Date, Model ID, Price]\n",
      "Index: []\n"
     ]
    }
   ],
   "source": [
    "# check if employee_id is in the list of employee_id\n",
    "print(f\"employee_id not in list of employee_id: \\n{order_df[~order_df['Employee ID'].isin(employee_id)]}\")"
   ]
  },
  {
   "cell_type": "code",
   "execution_count": 37,
   "metadata": {},
   "outputs": [
    {
     "data": {
      "text/plain": [
       "<Axes: >"
      ]
     },
     "execution_count": 37,
     "metadata": {},
     "output_type": "execute_result"
    },
    {
     "data": {
      "image/png": "[encoded data removed]",
      "text/plain": [
       "<Figure size 640x480 with 1 Axes>"
      ]
     },
     "metadata": {},
     "output_type": "display_data"
    }
   ],
   "source": [
    "# show a histogram of the price column\n",
    "order_df['Price'].hist()"
   ]
  },
  {
   "cell_type": "code",
   "execution_count": 38,
   "metadata": {},
   "outputs": [
    {
     "name": "stdout",
     "output_type": "stream",
     "text": [
      "Required Model Type\n",
      "NN      1359\n",
      "SVM      318\n",
      "LR       315\n",
      "DT       307\n",
      "kNN      300\n",
      "logR     293\n",
      "NB       283\n",
      "RF       267\n",
      "Name: count, dtype: int64\n"
     ]
    }
   ],
   "source": [
    "# show the count of each model type\n",
    "print(order_df['Required Model Type'].value_counts())"
   ]
  },
  {
   "cell_type": "code",
   "execution_count": 39,
   "metadata": {},
   "outputs": [
    {
     "data": {
      "text/plain": [
       "<Axes: >"
      ]
     },
     "execution_count": 39,
     "metadata": {},
     "output_type": "execute_result"
    },
    {
     "data": {
      "image/png": "[encoded data removed]",
      "text/plain": [
       "<Figure size 640x480 with 1 Axes>"
      ]
     },
     "metadata": {},
     "output_type": "display_data"
    }
   ],
   "source": [
    "# box plot of price column\n",
    "order_df['Price'].plot(kind='box')"
   ]
  },
  {
   "cell_type": "code",
   "execution_count": 40,
   "metadata": {},
   "outputs": [
    {
     "name": "stdout",
     "output_type": "stream",
     "text": [
      "required model type not in list of model code: \n",
      "     Order ID Customer ID Employee ID Required Model Type  Required Accuracy  \\\n",
      "13    S210088       c0057      e00009                logR              58.80   \n",
      "18    S220184       c0021      e00022                logR              75.68   \n",
      "29    S210577       c0069      e00007                logR              63.31   \n",
      "30    S230860       c0065      e00020                logR              56.05   \n",
      "34    S210457       c0002      e00022                logR              71.80   \n",
      "...       ...         ...         ...                 ...                ...   \n",
      "3403  S210889       c0064      e00004                logR              59.72   \n",
      "3407  S210539       c0037      e00020                logR              51.46   \n",
      "3423  S210594       c0013      e00006                logR              77.04   \n",
      "3431  S220895       c0067      e00018                logR              52.67   \n",
      "3439  S220219       c0018      e00014                logR              70.11   \n",
      "\n",
      "      Order Date Completion Date Model ID  Price  \n",
      "13    2021/03/11      2021/10/30    m0044    231  \n",
      "18    2022/01/16      2022/04/09    m0082    401  \n",
      "29    2021/06/18      2021/08/25    m0066    118  \n",
      "30    2023/04/03      2023/12/26    m0051    492  \n",
      "34    2021/01/12      2021/08/31    m0059    153  \n",
      "...          ...             ...      ...    ...  \n",
      "3403  2021/05/21      2021/11/25    m0028    252  \n",
      "3407  2021/09/04      2021/09/26    m0022    118  \n",
      "3423  2021/11/07      2021/12/15    m0022    218  \n",
      "3431  2022/03/06      2022/10/28    m0074    289  \n",
      "3439  2022/03/19      2022/11/06    m0022    309  \n",
      "\n",
      "[293 rows x 9 columns]\n"
     ]
    }
   ],
   "source": [
    "# check if required model type is in the list of model code\n",
    "print(f\"required model type not in list of model code: \\n{order_df[~order_df['Required Model Type'].isin(model_code)]}\")"
   ]
  },
  {
   "cell_type": "code",
   "execution_count": 41,
   "metadata": {},
   "outputs": [],
   "source": [
    "# convert required model type logR to LogR\n",
    "order_df['Required Model Type'].replace('logR', 'LogR', inplace=True)"
   ]
  },
  {
   "cell_type": "code",
   "execution_count": 42,
   "metadata": {},
   "outputs": [],
   "source": [
    "# check if the model used is correct\n",
    "debug = False\n",
    "\n",
    "for i in order_df.index:\n",
    "    order_required_model_type = order_df.loc[i, 'Required Model Type']\n",
    "    order_model_id = order_df.loc[i, 'Model ID']\n",
    "    model_model_data = model_df[model_df['Model ID'] == order_model_id]\n",
    "    mode_model_code = model_model_data['Model Code'].values[0]\n",
    "\n",
    "    if debug:\n",
    "        print(f\"\"\"\n",
    "        order_required_model_type: {order_required_model_type}\n",
    "        order_model_id: {order_model_id}\n",
    "        mode_model_code: {mode_model_code}\n",
    "        index: {i}\n",
    "        \"\"\")\n",
    "\n",
    "    if order_required_model_type != mode_model_code:\n",
    "        order_id = order_df.loc[i, 'Order ID']\n",
    "        print(f\"order_id: {order_id}, index: {i}\")"
   ]
  },
  {
   "cell_type": "code",
   "execution_count": 43,
   "metadata": {},
   "outputs": [],
   "source": [
    "# check if required accuracy is fulfilled\n",
    "for i in order_df.index:\n",
    "    order_required_accuracy = order_df.loc[i, 'Required Accuracy']\n",
    "    order_model_id = order_df.loc[i, 'Model ID']\n",
    "    model_model_data = model_df[model_df['Model ID'] == order_model_id]\n",
    "    model_accuracy = model_model_data['Accuracy'].values[0]\n",
    "\n",
    "    if order_required_accuracy > model_accuracy:\n",
    "        order_id = order_df.loc[i, 'Order ID']\n",
    "        print(f\"order_id: {order_id}, index: {i}\")"
   ]
  },
  {
   "cell_type": "code",
   "execution_count": 44,
   "metadata": {},
   "outputs": [],
   "source": [
    "# check if order date is before completion date\n",
    "for i in order_df.index:\n",
    "    order_date = order_df.loc[i, 'Order Date']\n",
    "    completion_date = order_df.loc[i, 'Completion Date']\n",
    "    order_date = pd.to_datetime(order_date)\n",
    "    completion_date = pd.to_datetime(completion_date)\n",
    "\n",
    "    if order_date > completion_date:\n",
    "        order_id = order_df.loc[i, 'Order ID']\n",
    "        print(f\"order_id: {order_id}, index: {i}\")"
   ]
  },
  {
   "cell_type": "markdown",
   "metadata": {},
   "source": [
    "# Save the data"
   ]
  },
  {
   "cell_type": "code",
   "execution_count": 45,
   "metadata": {},
   "outputs": [
    {
     "name": "stdout",
     "output_type": "stream",
     "text": [
      "done\n"
     ]
    }
   ],
   "source": [
    "\n",
    "## Set up\n",
    "SaveDir = 'output/'\n",
    "import os\n",
    "if not os.path.exists(SaveDir):\n",
    "    os.makedirs(SaveDir)\n",
    "\n",
    "## customer_df\n",
    "customer_df.to_csv(SaveDir + 'customer.csv', index=False)\n",
    "\n",
    "## employee_df\n",
    "employee_df.to_csv(SaveDir + 'employee.csv', index=False)\n",
    "\n",
    "## dataset_df\n",
    "dataset_df.to_csv(SaveDir + 'dataset.csv', index=False)\n",
    "\n",
    "## model_type_df\n",
    "model_type_df.to_csv(SaveDir + 'modeltype.csv', index=False)\n",
    "\n",
    "## model_df\n",
    "model_df.to_csv(SaveDir + 'model.csv', index=False)\n",
    "\n",
    "## order_df\n",
    "order_df.to_csv(SaveDir + 'order.csv', index=False)\n",
    "\n",
    "print(\"done\")\n"
   ]
  }
 ],
 "metadata": {
  "kernelspec": {
   "display_name": "Python 3",
   "language": "python",
   "name": "python3"
  },
  "language_info": {
   "codemirror_mode": {
    "name": "ipython",
    "version": 3
   },
   "file_extension": ".py",
   "mimetype": "text/x-python",
   "name": "python",
   "nbconvert_exporter": "python",
   "pygments_lexer": "ipython3",
   "version": "3.11.3"
  }
 },
 "nbformat": 4,
 "nbformat_minor": 2
}
